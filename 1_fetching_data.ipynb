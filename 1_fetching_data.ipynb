{
 "cells": [
  {
   "cell_type": "markdown",
   "id": "492adfaf-ea90-41b0-819d-461606a2d7e8",
   "metadata": {},
   "source": [
    "# Fetching Data\n",
    "\n",
    "This notebook includes code that fetches data from balldontlie API and then saves it as a csv file."
   ]
  },
  {
   "cell_type": "code",
   "execution_count": 1,
   "id": "c123cb75-0d2d-4824-8066-f0bdbcf1f395",
   "metadata": {},
   "outputs": [],
   "source": [
    "import requests\n",
    "import pandas as pd\n",
    "import time"
   ]
  },
  {
   "cell_type": "code",
   "execution_count": 2,
   "id": "64900888-d127-4ba4-8f91-c38bd451722b",
   "metadata": {},
   "outputs": [],
   "source": [
    "pd.set_option('display.max_columns', None)"
   ]
  },
  {
   "cell_type": "markdown",
   "id": "cf7d5b76-53bd-407a-84c1-0368481136f6",
   "metadata": {},
   "source": [
    "NOTE: This make_request() function is different from the one in functions.py. It doesn't automatically detect if the request it a multi page request. (balldontlie API serves a maximum of 100 rows of data per request)"
   ]
  },
  {
   "cell_type": "code",
   "execution_count": 3,
   "id": "bd1d2b16-ac7e-443b-bd72-0e3a5bf0d327",
   "metadata": {},
   "outputs": [],
   "source": [
    "def make_request(endpoint, params=None, record_path=None, verbose=False):\n",
    "    root = \"https://www.balldontlie.io/api/v1/\"\n",
    "    response = requests.get(root + endpoint, params=params)\n",
    "    if response.status_code != 200:\n",
    "        print(response.status_code)\n",
    "        return response\n",
    "    if verbose: print(\"Success!\")\n",
    "    res = response.json()\n",
    "    res = pd.json_normalize(res, record_path=record_path)\n",
    "    return res"
   ]
  },
  {
   "cell_type": "markdown",
   "id": "5290203b-4062-4c0c-a3ad-03d14a259b5e",
   "metadata": {
    "tags": []
   },
   "source": [
    "### game data\n",
    "\n",
    "This data is only used for EDA purposes"
   ]
  },
  {
   "cell_type": "code",
   "execution_count": 40,
   "id": "10887a13-a9c1-4000-bea9-7f6b7180cdcb",
   "metadata": {},
   "outputs": [
    {
     "name": "stdout",
     "output_type": "stream",
     "text": [
      "Success!\n"
     ]
    }
   ],
   "source": [
    "game_data = make_request(\"games\", params={\"page\":1, \"per_page\":100, \"seasons\":[2017,2018,2019,2020]}, record_path=\"data\", verbose=True)"
   ]
  },
  {
   "cell_type": "code",
   "execution_count": 41,
   "id": "31b98bc1-05cc-4c88-978e-4974496f927a",
   "metadata": {
    "collapsed": true,
    "jupyter": {
     "outputs_hidden": true
    },
    "tags": []
   },
   "outputs": [
    {
     "name": "stdout",
     "output_type": "stream",
     "text": [
      "10\n",
      "20\n",
      "30\n",
      "40\n",
      "50\n",
      "60\n",
      "70\n",
      "80\n",
      "90\n",
      "100\n",
      "110\n",
      "120\n",
      "130\n",
      "140\n",
      "150\n",
      "160\n",
      "170\n",
      "180\n",
      "190\n",
      "200\n",
      "210\n",
      "220\n",
      "230\n",
      "240\n",
      "250\n",
      "260\n",
      "270\n",
      "280\n",
      "290\n",
      "300\n",
      "310\n",
      "320\n",
      "330\n",
      "340\n",
      "350\n",
      "360\n",
      "370\n",
      "380\n",
      "390\n",
      "400\n",
      "410\n",
      "420\n",
      "430\n",
      "440\n",
      "450\n",
      "460\n",
      "470\n",
      "480\n",
      "490\n",
      "500\n",
      "CPU times: user 41.9 s, sys: 2 s, total: 43.9 s\n",
      "Wall time: 17min 51s\n"
     ]
    }
   ],
   "source": [
    "%%time\n",
    "for i in range(2,501):\n",
    "    if i%10 == 0: print(i)\n",
    "    time.sleep(1.2)\n",
    "    new_data = make_request(\"games\", params={\"page\":i, \"per_page\":100, \"seasons\":[2017,2018,2019,2020]}, record_path=\"data\")\n",
    "    game_data = game_data.append(new_data)"
   ]
  },
  {
   "cell_type": "code",
   "execution_count": 45,
   "id": "6a6b15fb-276d-4052-8e8b-339207247cb4",
   "metadata": {},
   "outputs": [],
   "source": [
    "game_data.set_index(\"id\", inplace=True)"
   ]
  },
  {
   "cell_type": "code",
   "execution_count": 51,
   "id": "a54f77cd-b90f-4679-9b61-54eb98701d44",
   "metadata": {},
   "outputs": [],
   "source": [
    "game_data.to_csv(\"data/games.csv\")"
   ]
  },
  {
   "cell_type": "markdown",
   "id": "e3121c1e-04e8-420f-b143-35bff4b4f662",
   "metadata": {
    "tags": []
   },
   "source": [
    "### stats data\n",
    "\n",
    "This is the data used to build the model. Individual player stats for every NBA game since 1979.\n",
    "\n",
    "The first block of code is just to get the meta data. To see how many pages of data we are going to have to request (as balldontlie API serves a maximum of 100 rows of data per request.)"
   ]
  },
  {
   "cell_type": "code",
   "execution_count": 123,
   "id": "8ec61fc0-437d-461c-bbbd-93643fbdd11d",
   "metadata": {
    "tags": []
   },
   "outputs": [],
   "source": [
    "# there are over 11000 pages!\n",
    "all_stats_data_meta = make_request(\"stats\", params={\"page\":1, \"per_page\":100}, record_path=None)\n",
    "\n",
    "all_stats_data_meta"
   ]
  },
  {
   "cell_type": "markdown",
   "id": "9d084370-9cf7-490d-908d-0328fb784b50",
   "metadata": {},
   "source": [
    "This code gets all 11483 pages of data from the API and saves it in a dataframe"
   ]
  },
  {
   "cell_type": "code",
   "execution_count": 6,
   "id": "c02c019e-3949-4037-9d21-9cf4379f5570",
   "metadata": {
    "tags": []
   },
   "outputs": [
    {
     "name": "stdout",
     "output_type": "stream",
     "text": [
      "10\n",
      "Done!\n"
     ]
    }
   ],
   "source": [
    "stats_data = pd.DataFrame()\n",
    "\n",
    "for i in range(1, 11483):\n",
    "    # Print what page we're on every 10 pages to keep track of progress\n",
    "    if i % 10 == 0:\n",
    "        print(i)\n",
    "        \n",
    "    # Make sure not to exceed 60 API requests per minute (balldontlie API is free but limits request per minite)\n",
    "    time.sleep(1.1)\n",
    "    \n",
    "    # Make the request and append to the dataframe\n",
    "    new_data = make_request(\"stats\", params={\"page\":i, \"per_page\":100}, record_path=\"data\")\n",
    "    stats_data = stats_data.append(new_data)\n",
    "print(\"Done!\")"
   ]
  },
  {
   "cell_type": "markdown",
   "id": "990578d2-6ceb-4183-b939-56fbabd638dc",
   "metadata": {},
   "source": [
    "This code saves the data to a csv file. It's commented out to not accidentally overwrite the current csv file as it took hours to pull all the data."
   ]
  },
  {
   "cell_type": "code",
   "execution_count": 120,
   "id": "16e3c6f3-0592-4455-b907-f46d35b28896",
   "metadata": {},
   "outputs": [],
   "source": [
    "stats_data.set_index(\"id\", inplace=True)\n",
    "\n",
    "# stats_data.to_csv(\"data/stats_raw.csv\")"
   ]
  },
  {
   "cell_type": "code",
   "execution_count": 126,
   "id": "f5d5aaf0-50c8-4970-baf9-6f67446ab71d",
   "metadata": {
    "jupyter": {
     "source_hidden": true
    },
    "tags": []
   },
   "outputs": [],
   "source": [
    "for i in range(2, 11483):\n",
    "    if i%100 == 0: print(i)\n",
    "    time.sleep(1.5)\n",
    "    new_data = make_request(\"stats\", params={\"page\":i, \"per_page\":100}, record_path=\"data\")\n",
    "    all_stats_data = all_stats_data.append(new_data)\n",
    "print(\"Done!\")"
   ]
  }
 ],
 "metadata": {
  "kernelspec": {
   "display_name": "bootcamp",
   "language": "python",
   "name": "bootcamp"
  },
  "language_info": {
   "codemirror_mode": {
    "name": "ipython",
    "version": 3
   },
   "file_extension": ".py",
   "mimetype": "text/x-python",
   "name": "python",
   "nbconvert_exporter": "python",
   "pygments_lexer": "ipython3",
   "version": "3.8.11"
  }
 },
 "nbformat": 4,
 "nbformat_minor": 5
}
