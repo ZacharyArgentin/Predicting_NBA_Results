{
 "cells": [
  {
   "cell_type": "markdown",
   "id": "49743bef-0caa-4a5a-928d-a40d279dc638",
   "metadata": {},
   "source": [
    "# EDA"
   ]
  },
  {
   "cell_type": "code",
   "execution_count": 80,
   "id": "ea1e536c-dee0-443f-94c7-d99fda75e97a",
   "metadata": {},
   "outputs": [],
   "source": [
    "import pandas as pd\n",
    "import numpy as np\n",
    "import matplotlib.pyplot as plt"
   ]
  },
  {
   "cell_type": "code",
   "execution_count": 81,
   "id": "6a58fd31-883e-45a6-ba3b-4d3cabdf8b19",
   "metadata": {},
   "outputs": [],
   "source": [
    "pd.set_option(\"display.max_columns\", None)"
   ]
  },
  {
   "cell_type": "markdown",
   "id": "4ba41a7c-7be6-409b-97d0-4fc5b6776f28",
   "metadata": {},
   "source": [
    "## Games data"
   ]
  },
  {
   "cell_type": "code",
   "execution_count": 82,
   "id": "19efc457-4a03-4df3-b165-a780faa0be48",
   "metadata": {},
   "outputs": [],
   "source": [
    "all_games = pd.read_csv(\"data/games_clean.csv\", index_col=\"id\")"
   ]
  },
  {
   "cell_type": "code",
   "execution_count": 83,
   "id": "9dab1e55-9ff9-4244-a665-2fd4bda53a94",
   "metadata": {},
   "outputs": [
    {
     "data": {
      "text/html": [
       "<div>\n",
       "<style scoped>\n",
       "    .dataframe tbody tr th:only-of-type {\n",
       "        vertical-align: middle;\n",
       "    }\n",
       "\n",
       "    .dataframe tbody tr th {\n",
       "        vertical-align: top;\n",
       "    }\n",
       "\n",
       "    .dataframe thead th {\n",
       "        text-align: right;\n",
       "    }\n",
       "</style>\n",
       "<table border=\"1\" class=\"dataframe\">\n",
       "  <thead>\n",
       "    <tr style=\"text-align: right;\">\n",
       "      <th></th>\n",
       "      <th>date</th>\n",
       "      <th>home_team_score</th>\n",
       "      <th>period</th>\n",
       "      <th>postseason</th>\n",
       "      <th>season</th>\n",
       "      <th>status</th>\n",
       "      <th>visitor_team_score</th>\n",
       "      <th>home_team.id</th>\n",
       "      <th>home_team.abbreviation</th>\n",
       "      <th>home_team.conference</th>\n",
       "      <th>home_team.division</th>\n",
       "      <th>home_team.full_name</th>\n",
       "      <th>visitor_team.id</th>\n",
       "      <th>visitor_team.abbreviation</th>\n",
       "      <th>visitor_team.conference</th>\n",
       "      <th>visitor_team.division</th>\n",
       "      <th>visitor_team.full_name</th>\n",
       "    </tr>\n",
       "    <tr>\n",
       "      <th>id</th>\n",
       "      <th></th>\n",
       "      <th></th>\n",
       "      <th></th>\n",
       "      <th></th>\n",
       "      <th></th>\n",
       "      <th></th>\n",
       "      <th></th>\n",
       "      <th></th>\n",
       "      <th></th>\n",
       "      <th></th>\n",
       "      <th></th>\n",
       "      <th></th>\n",
       "      <th></th>\n",
       "      <th></th>\n",
       "      <th></th>\n",
       "      <th></th>\n",
       "      <th></th>\n",
       "    </tr>\n",
       "  </thead>\n",
       "  <tbody>\n",
       "    <tr>\n",
       "      <th>47179</th>\n",
       "      <td>2019-01-30T00:00:00.000Z</td>\n",
       "      <td>126</td>\n",
       "      <td>4</td>\n",
       "      <td>False</td>\n",
       "      <td>2018</td>\n",
       "      <td>Final</td>\n",
       "      <td>94</td>\n",
       "      <td>2</td>\n",
       "      <td>BOS</td>\n",
       "      <td>East</td>\n",
       "      <td>Atlantic</td>\n",
       "      <td>Boston Celtics</td>\n",
       "      <td>4</td>\n",
       "      <td>CHA</td>\n",
       "      <td>East</td>\n",
       "      <td>Southeast</td>\n",
       "      <td>Charlotte Hornets</td>\n",
       "    </tr>\n",
       "    <tr>\n",
       "      <th>48751</th>\n",
       "      <td>2019-02-09T00:00:00.000Z</td>\n",
       "      <td>112</td>\n",
       "      <td>4</td>\n",
       "      <td>False</td>\n",
       "      <td>2018</td>\n",
       "      <td>Final</td>\n",
       "      <td>123</td>\n",
       "      <td>2</td>\n",
       "      <td>BOS</td>\n",
       "      <td>East</td>\n",
       "      <td>Atlantic</td>\n",
       "      <td>Boston Celtics</td>\n",
       "      <td>13</td>\n",
       "      <td>LAC</td>\n",
       "      <td>West</td>\n",
       "      <td>Pacific</td>\n",
       "      <td>LA Clippers</td>\n",
       "    </tr>\n",
       "    <tr>\n",
       "      <th>48739</th>\n",
       "      <td>2019-02-08T00:00:00.000Z</td>\n",
       "      <td>117</td>\n",
       "      <td>4</td>\n",
       "      <td>False</td>\n",
       "      <td>2018</td>\n",
       "      <td>Final</td>\n",
       "      <td>110</td>\n",
       "      <td>23</td>\n",
       "      <td>PHI</td>\n",
       "      <td>East</td>\n",
       "      <td>Atlantic</td>\n",
       "      <td>Philadelphia 76ers</td>\n",
       "      <td>8</td>\n",
       "      <td>DEN</td>\n",
       "      <td>West</td>\n",
       "      <td>Northwest</td>\n",
       "      <td>Denver Nuggets</td>\n",
       "    </tr>\n",
       "    <tr>\n",
       "      <th>48740</th>\n",
       "      <td>2019-02-08T00:00:00.000Z</td>\n",
       "      <td>119</td>\n",
       "      <td>4</td>\n",
       "      <td>False</td>\n",
       "      <td>2018</td>\n",
       "      <td>Final</td>\n",
       "      <td>106</td>\n",
       "      <td>30</td>\n",
       "      <td>WAS</td>\n",
       "      <td>East</td>\n",
       "      <td>Southeast</td>\n",
       "      <td>Washington Wizards</td>\n",
       "      <td>6</td>\n",
       "      <td>CLE</td>\n",
       "      <td>East</td>\n",
       "      <td>Central</td>\n",
       "      <td>Cleveland Cavaliers</td>\n",
       "    </tr>\n",
       "    <tr>\n",
       "      <th>48746</th>\n",
       "      <td>2019-02-08T00:00:00.000Z</td>\n",
       "      <td>102</td>\n",
       "      <td>4</td>\n",
       "      <td>False</td>\n",
       "      <td>2018</td>\n",
       "      <td>Final</td>\n",
       "      <td>96</td>\n",
       "      <td>26</td>\n",
       "      <td>SAC</td>\n",
       "      <td>West</td>\n",
       "      <td>Pacific</td>\n",
       "      <td>Sacramento Kings</td>\n",
       "      <td>16</td>\n",
       "      <td>MIA</td>\n",
       "      <td>East</td>\n",
       "      <td>Southeast</td>\n",
       "      <td>Miami Heat</td>\n",
       "    </tr>\n",
       "  </tbody>\n",
       "</table>\n",
       "</div>"
      ],
      "text/plain": [
       "                           date  home_team_score  period  postseason  season  \\\n",
       "id                                                                             \n",
       "47179  2019-01-30T00:00:00.000Z              126       4       False    2018   \n",
       "48751  2019-02-09T00:00:00.000Z              112       4       False    2018   \n",
       "48739  2019-02-08T00:00:00.000Z              117       4       False    2018   \n",
       "48740  2019-02-08T00:00:00.000Z              119       4       False    2018   \n",
       "48746  2019-02-08T00:00:00.000Z              102       4       False    2018   \n",
       "\n",
       "      status  visitor_team_score  home_team.id home_team.abbreviation  \\\n",
       "id                                                                      \n",
       "47179  Final                  94             2                    BOS   \n",
       "48751  Final                 123             2                    BOS   \n",
       "48739  Final                 110            23                    PHI   \n",
       "48740  Final                 106            30                    WAS   \n",
       "48746  Final                  96            26                    SAC   \n",
       "\n",
       "      home_team.conference home_team.division home_team.full_name  \\\n",
       "id                                                                  \n",
       "47179                 East           Atlantic      Boston Celtics   \n",
       "48751                 East           Atlantic      Boston Celtics   \n",
       "48739                 East           Atlantic  Philadelphia 76ers   \n",
       "48740                 East          Southeast  Washington Wizards   \n",
       "48746                 West            Pacific    Sacramento Kings   \n",
       "\n",
       "       visitor_team.id visitor_team.abbreviation visitor_team.conference  \\\n",
       "id                                                                         \n",
       "47179                4                       CHA                    East   \n",
       "48751               13                       LAC                    West   \n",
       "48739                8                       DEN                    West   \n",
       "48740                6                       CLE                    East   \n",
       "48746               16                       MIA                    East   \n",
       "\n",
       "      visitor_team.division visitor_team.full_name  \n",
       "id                                                  \n",
       "47179             Southeast      Charlotte Hornets  \n",
       "48751               Pacific            LA Clippers  \n",
       "48739             Northwest         Denver Nuggets  \n",
       "48740               Central    Cleveland Cavaliers  \n",
       "48746             Southeast             Miami Heat  "
      ]
     },
     "execution_count": 83,
     "metadata": {},
     "output_type": "execute_result"
    }
   ],
   "source": [
    "all_games.head()"
   ]
  },
  {
   "cell_type": "markdown",
   "id": "2aab1c84-132c-4aa5-b593-95290694c8d2",
   "metadata": {},
   "source": [
    "#### Using Data from 1979 to 2020"
   ]
  },
  {
   "cell_type": "code",
   "execution_count": 84,
   "id": "909e16d1-77dc-4e32-8a52-458a81a87da0",
   "metadata": {},
   "outputs": [
    {
     "data": {
      "text/plain": [
       "array([1979, 1980, 1981, 1982, 1983, 1984, 1985, 1986, 1987, 1988, 1989,\n",
       "       1990, 1991, 1992, 1993, 1994, 1995, 1996, 1997, 1998, 1999, 2000,\n",
       "       2001, 2002, 2003, 2004, 2005, 2006, 2007, 2008, 2009, 2010, 2011,\n",
       "       2012, 2013, 2014, 2015, 2016, 2017, 2018, 2019, 2020])"
      ]
     },
     "execution_count": 84,
     "metadata": {},
     "output_type": "execute_result"
    }
   ],
   "source": [
    "all_seasons = np.sort(all_games[\"season\"].unique())\n",
    "all_seasons"
   ]
  },
  {
   "cell_type": "markdown",
   "id": "ebd44b96-e607-4e23-90fc-6e1376829ea0",
   "metadata": {},
   "source": [
    "#### Historically, The home team wins 61% of the time"
   ]
  },
  {
   "cell_type": "code",
   "execution_count": 85,
   "id": "78c87e49-68d8-491e-94b8-fc207f1b5cdd",
   "metadata": {},
   "outputs": [
    {
     "name": "stdout",
     "output_type": "stream",
     "text": [
      "30447\n",
      "49834\n",
      "0.61\n"
     ]
    }
   ],
   "source": [
    "n_home_wins = all_games[all_games[\"home_team_score\"].gt(all_games[\"visitor_team_score\"])].shape[0]  # number of games where home team won\n",
    "n_games = all_games.shape[0]  # number of games\n",
    "home_win_pct = round(n_home_wins/n_games, 2)\n",
    "\n",
    "print(n_home_wins, n_games, home_win_pct, sep=\"\\n\")"
   ]
  },
  {
   "cell_type": "code",
   "execution_count": 86,
   "id": "2f7dc20f-81f3-4fc0-899e-ebbc184f5b1b",
   "metadata": {
    "collapsed": true,
    "jupyter": {
     "outputs_hidden": true
    },
    "tags": []
   },
   "outputs": [
    {
     "name": "stdout",
     "output_type": "stream",
     "text": [
      "1979 622 950 0.65\n",
      "1980 612 995 0.62\n",
      "1981 592 989 0.6\n",
      "1982 612 986 0.62\n",
      "1983 687 1022 0.67\n",
      "1984 642 1011 0.64\n",
      "1985 662 1010 0.66\n",
      "1986 677 1014 0.67\n",
      "1987 697 1023 0.68\n",
      "1988 729 1087 0.67\n",
      "1989 767 1179 0.65\n",
      "1990 773 1175 0.66\n",
      "1991 751 1180 0.64\n",
      "1992 725 1183 0.61\n",
      "1993 729 1184 0.62\n",
      "1994 700 1178 0.59\n",
      "1995 764 1257 0.61\n",
      "1996 733 1261 0.58\n",
      "1997 746 1252 0.6\n",
      "1998 492 791 0.62\n",
      "1999 775 1264 0.61\n",
      "2000 752 1260 0.6\n",
      "2001 744 1260 0.59\n",
      "2002 800 1277 0.63\n",
      "2003 789 1271 0.62\n",
      "2004 791 1314 0.6\n",
      "2005 802 1319 0.61\n",
      "2006 778 1309 0.59\n",
      "2007 803 1316 0.61\n",
      "2008 805 1315 0.61\n",
      "2009 786 1312 0.6\n",
      "2010 797 1311 0.61\n",
      "2011 637 1074 0.59\n",
      "2012 806 1314 0.61\n",
      "2013 764 1319 0.58\n",
      "2014 755 1311 0.58\n",
      "2015 782 1316 0.59\n",
      "2016 763 1309 0.58\n",
      "2017 770 1312 0.59\n",
      "2018 774 1311 0.59\n",
      "2019 623 1142 0.55\n",
      "2020 639 1171 0.55\n"
     ]
    }
   ],
   "source": [
    "home_win_pcts = []\n",
    "for season in all_seasons:\n",
    "    season_games = all_games[all_games[\"season\"].eq(season)]\n",
    "    n_home_wins = season_games[season_games[\"home_team_score\"].gt(season_games[\"visitor_team_score\"])].shape[0]  # number of games where home team won\n",
    "    n_games = season_games.shape[0]  # number of games\n",
    "    home_win_pct = round(n_home_wins/n_games, 2)\n",
    "    home_win_pcts.append(home_win_pct)\n",
    "    print(season, n_home_wins, n_games, home_win_pct)"
   ]
  },
  {
   "cell_type": "code",
   "execution_count": 87,
   "id": "42794c35-102f-4b49-aeb8-9e61086cbf70",
   "metadata": {},
   "outputs": [
    {
     "data": {
      "image/png": "[encoded data removed]",
      "text/plain": [
       "<Figure size 640x480 with 1 Axes>"
      ]
     },
     "metadata": {},
     "output_type": "display_data"
    }
   ],
   "source": [
    "plt.figure()\n",
    "plt.plot(all_seasons, home_win_pcts)\n",
    "plt.title(\"Home Team Win % by Year\")\n",
    "plt.grid()\n",
    "plt.ylim(.5, .7)\n",
    "plt.yticks(ticks=plt.yticks()[0], labels=(plt.yticks()[0]*100).round(1))\n",
    "plt.show()"
   ]
  },
  {
   "cell_type": "code",
   "execution_count": 13,
   "id": "bf85c8e3-843b-44a4-80d2-e1c213e5052f",
   "metadata": {},
   "outputs": [],
   "source": [
    "# Feature engineering\n",
    "\n",
    "g = all_games.copy()\n",
    "\n",
    "g[\"date\"] = pd.to_datetime(all_games[\"date\"]).dt.tz_localize(None)\n",
    "\n",
    "g[\"winner\"] = np.where(g[\"home_team_score\"] > g[\"visitor_team_score\"], 1, 0)\n",
    "\n",
    "home_avg_pts_map = g[[\"home_team.id\", \"home_team_score\"]].groupby(\"home_team.id\").mean().squeeze()\n",
    "g[\"home_team_avg_score\"] = g[\"home_team.id\"].map(home_avg_pts_map)\n",
    "g[\"home_team_avg_score\"] = g[\"home_team_avg_score\"].round(1)\n",
    "\n",
    "visitor_avg_pts_map = g[[\"visitor_team.id\", \"visitor_team_score\"]].groupby(\"visitor_team.id\").mean().squeeze()\n",
    "g[\"visitor_team_avg_score\"] = g[\"visitor_team.id\"].map(visitor_avg_pts_map)\n",
    "g[\"visitor_team_avg_score\"] = g[\"visitor_team_avg_score\"].round(1)"
   ]
  },
  {
   "cell_type": "markdown",
   "id": "53e5c5b6-2154-43ab-9770-ef01f24d0b1e",
   "metadata": {},
   "source": [
    "#### Furthermore, teams score more points when they are playing at home"
   ]
  },
  {
   "cell_type": "code",
   "execution_count": 24,
   "id": "5e88ce6c-5189-4b5b-8e31-c8db9101e388",
   "metadata": {},
   "outputs": [
    {
     "name": "stdout",
     "output_type": "stream",
     "text": [
      "True     43172\n",
      "False     6748\n",
      "dtype: int64\n",
      "0.86\n"
     ]
    }
   ],
   "source": [
    "print(g[\"home_team_avg_score\"].gt(g[\"visitor_team_avg_score\"]).value_counts())\n",
    "print(round(43173 / 50460, 2))"
   ]
  },
  {
   "cell_type": "code",
   "execution_count": 17,
   "id": "de2486df-a1bc-492f-997b-0869eca10b65",
   "metadata": {},
   "outputs": [
    {
     "data": {
      "text/plain": [
       "id\n",
       "47179     105.7\n",
       "48751     105.7\n",
       "48739     103.2\n",
       "48740     103.4\n",
       "48746     105.5\n",
       "          ...  \n",
       "128052    102.2\n",
       "128036    101.8\n",
       "128001    103.2\n",
       "127942    100.9\n",
       "127688    101.7\n",
       "Name: home_team_avg_score, Length: 49920, dtype: float64"
      ]
     },
     "execution_count": 17,
     "metadata": {},
     "output_type": "execute_result"
    }
   ],
   "source": [
    "g[\"home_team_avg_score\"]"
   ]
  },
  {
   "cell_type": "code",
   "execution_count": 18,
   "id": "7ff42aad-2178-4420-b78b-eb7baaebfdd8",
   "metadata": {},
   "outputs": [
    {
     "data": {
      "text/plain": [
       "id\n",
       "47179      98.1\n",
       "48751     100.6\n",
       "48739     104.2\n",
       "48740      98.2\n",
       "48746      96.0\n",
       "          ...  \n",
       "128052    100.1\n",
       "128036    101.5\n",
       "128001    101.5\n",
       "127942     99.6\n",
       "127688     99.4\n",
       "Name: visitor_team_avg_score, Length: 49920, dtype: float64"
      ]
     },
     "execution_count": 18,
     "metadata": {},
     "output_type": "execute_result"
    }
   ],
   "source": [
    "g[\"visitor_team_avg_score\"]"
   ]
  },
  {
   "cell_type": "code",
   "execution_count": null,
   "id": "52425750-26c9-40c0-93ba-aa8b53a82222",
   "metadata": {},
   "outputs": [],
   "source": []
  }
 ],
 "metadata": {
  "kernelspec": {
   "display_name": "bootcamp",
   "language": "python",
   "name": "bootcamp"
  },
  "language_info": {
   "codemirror_mode": {
    "name": "ipython",
    "version": 3
   },
   "file_extension": ".py",
   "mimetype": "text/x-python",
   "name": "python",
   "nbconvert_exporter": "python",
   "pygments_lexer": "ipython3",
   "version": "3.8.11"
  }
 },
 "nbformat": 4,
 "nbformat_minor": 5
}
