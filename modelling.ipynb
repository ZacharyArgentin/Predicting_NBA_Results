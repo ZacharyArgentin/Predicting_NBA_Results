{
 "cells": [
  {
   "cell_type": "markdown",
   "id": "4f1757a6-f293-4e7d-84e6-102f1ce95541",
   "metadata": {},
   "source": [
    "# Modelling"
   ]
  },
  {
   "cell_type": "code",
   "execution_count": 1,
   "id": "267f238d-0d01-4e5b-b3f5-d125ffc4fc83",
   "metadata": {},
   "outputs": [],
   "source": [
    "import pandas as pd"
   ]
  },
  {
   "cell_type": "code",
   "execution_count": 17,
   "id": "1c8b2034-c406-4c85-8568-ac91a37e7ca8",
   "metadata": {},
   "outputs": [],
   "source": [
    "df = pd.read_csv(\"data/features.csv\", index_col=\"id\")"
   ]
  },
  {
   "cell_type": "code",
   "execution_count": 18,
   "id": "507aa65d-a96e-4cbb-b1bc-553bfee7404d",
   "metadata": {},
   "outputs": [
    {
     "data": {
      "text/html": [
       "<div>\n",
       "<style scoped>\n",
       "    .dataframe tbody tr th:only-of-type {\n",
       "        vertical-align: middle;\n",
       "    }\n",
       "\n",
       "    .dataframe tbody tr th {\n",
       "        vertical-align: top;\n",
       "    }\n",
       "\n",
       "    .dataframe thead th {\n",
       "        text-align: right;\n",
       "    }\n",
       "</style>\n",
       "<table border=\"1\" class=\"dataframe\">\n",
       "  <thead>\n",
       "    <tr style=\"text-align: right;\">\n",
       "      <th></th>\n",
       "      <th>season</th>\n",
       "      <th>winner</th>\n",
       "      <th>home_team_avg_score</th>\n",
       "      <th>visitor_team_avg_score</th>\n",
       "    </tr>\n",
       "    <tr>\n",
       "      <th>id</th>\n",
       "      <th></th>\n",
       "      <th></th>\n",
       "      <th></th>\n",
       "      <th></th>\n",
       "    </tr>\n",
       "  </thead>\n",
       "  <tbody>\n",
       "    <tr>\n",
       "      <th>47179</th>\n",
       "      <td>2018</td>\n",
       "      <td>1</td>\n",
       "      <td>105.7</td>\n",
       "      <td>98.1</td>\n",
       "    </tr>\n",
       "    <tr>\n",
       "      <th>48751</th>\n",
       "      <td>2018</td>\n",
       "      <td>0</td>\n",
       "      <td>105.7</td>\n",
       "      <td>100.6</td>\n",
       "    </tr>\n",
       "    <tr>\n",
       "      <th>48739</th>\n",
       "      <td>2018</td>\n",
       "      <td>1</td>\n",
       "      <td>103.2</td>\n",
       "      <td>104.2</td>\n",
       "    </tr>\n",
       "    <tr>\n",
       "      <th>48740</th>\n",
       "      <td>2018</td>\n",
       "      <td>1</td>\n",
       "      <td>103.4</td>\n",
       "      <td>98.2</td>\n",
       "    </tr>\n",
       "    <tr>\n",
       "      <th>48746</th>\n",
       "      <td>2018</td>\n",
       "      <td>1</td>\n",
       "      <td>105.5</td>\n",
       "      <td>96.0</td>\n",
       "    </tr>\n",
       "  </tbody>\n",
       "</table>\n",
       "</div>"
      ],
      "text/plain": [
       "       season  winner  home_team_avg_score  visitor_team_avg_score\n",
       "id                                                                \n",
       "47179    2018       1                105.7                    98.1\n",
       "48751    2018       0                105.7                   100.6\n",
       "48739    2018       1                103.2                   104.2\n",
       "48740    2018       1                103.4                    98.2\n",
       "48746    2018       1                105.5                    96.0"
      ]
     },
     "execution_count": 18,
     "metadata": {},
     "output_type": "execute_result"
    }
   ],
   "source": [
    "df.head()"
   ]
  },
  {
   "cell_type": "markdown",
   "id": "7ed398ba-cc9f-46b7-b564-f07e93ca5414",
   "metadata": {},
   "source": [
    "### Ultra Baseline"
   ]
  },
  {
   "cell_type": "code",
   "execution_count": 33,
   "id": "4e11fc4a-cec9-4065-8e59-37b7635fea0e",
   "metadata": {},
   "outputs": [
    {
     "data": {
      "text/plain": [
       "1    0.624456\n",
       "0    0.375544\n",
       "Name: winner, dtype: float64"
      ]
     },
     "execution_count": 33,
     "metadata": {},
     "output_type": "execute_result"
    }
   ],
   "source": [
    "# predict winner only using home_team_avg_score when playing at home\n",
    "# vs visitor_team_avg_score when playing as visitor\n",
    "home_should_win = df[df[\"home_team_avg_score\"].gt(df[\"visitor_team_avg_score\"])]\n",
    "home_should_win[\"winner\"].value_counts(normalize=True)"
   ]
  },
  {
   "cell_type": "markdown",
   "id": "1306e238-de63-4029-9872-224390909bdc",
   "metadata": {},
   "source": [
    "> Home team wins 62% of the time when there avg score is higher   \n",
    "> avg score was calculated by team across all games in their history since the 80s   \n",
    "> so I guess more accurate to say that   \n",
    "> Home team wins 62% of the time when they are home and are historically the better team   "
   ]
  },
  {
   "cell_type": "code",
   "execution_count": 42,
   "id": "270f1da7-0469-48be-94f4-4edb5fc8e0a4",
   "metadata": {},
   "outputs": [
    {
     "data": {
      "text/plain": [
       "1    0.652488\n",
       "0    0.347512\n",
       "Name: winner, dtype: float64"
      ]
     },
     "execution_count": 42,
     "metadata": {},
     "output_type": "execute_result"
    }
   ],
   "source": [
    "df[(df[\"home_team_avg_score\"] - 10).gt(df[\"visitor_team_avg_score\"])][\"winner\"].value_counts(normalize=True)"
   ]
  },
  {
   "cell_type": "markdown",
   "id": "bca328dc-089f-4c73-a4a0-fd14893668a0",
   "metadata": {},
   "source": [
    "> same experiment as above but only using teams that are heavy favourites (10 pt average more).  \n",
    "> win percantage actually doesn't go up that much"
   ]
  },
  {
   "cell_type": "code",
   "execution_count": 50,
   "id": "c2e5d519-e56d-4381-a089-594eb4f1a7b4",
   "metadata": {},
   "outputs": [],
   "source": [
    "s2020 = df[df[\"season\"].eq(2020)]\n",
    "s2019 = df[df[\"season\"].eq(2019)]\n",
    "s2017 = df[df[\"season\"].eq(2018)]\n",
    "s2017 = df[df[\"season\"].eq(2017)]\n",
    "s2016 = df[df[\"season\"].eq(2016)]\n",
    "s2015 = df[df[\"season\"].eq(2015)]"
   ]
  },
  {
   "cell_type": "code",
   "execution_count": 49,
   "id": "88da0e21-ec3c-485c-b93a-7108162ba333",
   "metadata": {},
   "outputs": [
    {
     "data": {
      "text/plain": [
       "1    0.606528\n",
       "0    0.393472\n",
       "Name: winner, dtype: float64"
      ]
     },
     "execution_count": 49,
     "metadata": {},
     "output_type": "execute_result"
    }
   ],
   "source": [
    "home_should_win = s2018[s2018[\"home_team_avg_score\"].gt(s2018[\"visitor_team_avg_score\"])]\n",
    "home_should_win[\"winner\"].value_counts(normalize=True)"
   ]
  },
  {
   "cell_type": "code",
   "execution_count": 49,
   "id": "de5a7b4e-e8c9-4352-96bd-e83ef1818887",
   "metadata": {},
   "outputs": [
    {
     "data": {
      "text/plain": [
       "1    0.606528\n",
       "0    0.393472\n",
       "Name: winner, dtype: float64"
      ]
     },
     "execution_count": 49,
     "metadata": {},
     "output_type": "execute_result"
    }
   ],
   "source": [
    "home_should_win = s2018[s2018[\"home_team_avg_score\"].gt(s2018[\"visitor_team_avg_score\"])]\n",
    "home_should_win[\"winner\"].value_counts(normalize=True)"
   ]
  },
  {
   "cell_type": "code",
   "execution_count": 49,
   "id": "b1ef725a-a4ca-476d-9a2f-d4da83be03a0",
   "metadata": {},
   "outputs": [
    {
     "data": {
      "text/plain": [
       "1    0.606528\n",
       "0    0.393472\n",
       "Name: winner, dtype: float64"
      ]
     },
     "execution_count": 49,
     "metadata": {},
     "output_type": "execute_result"
    }
   ],
   "source": [
    "home_should_win = s2018[s2018[\"home_team_avg_score\"].gt(s2018[\"visitor_team_avg_score\"])]\n",
    "home_should_win[\"winner\"].value_counts(normalize=True)"
   ]
  },
  {
   "cell_type": "code",
   "execution_count": 49,
   "id": "58f4ceda-6818-4a8a-b2e1-efc6321d09d3",
   "metadata": {},
   "outputs": [
    {
     "data": {
      "text/plain": [
       "1    0.606528\n",
       "0    0.393472\n",
       "Name: winner, dtype: float64"
      ]
     },
     "execution_count": 49,
     "metadata": {},
     "output_type": "execute_result"
    }
   ],
   "source": [
    "home_should_win = s2018[s2018[\"home_team_avg_score\"].gt(s2018[\"visitor_team_avg_score\"])]\n",
    "home_should_win[\"winner\"].value_counts(normalize=True)"
   ]
  },
  {
   "cell_type": "code",
   "execution_count": 49,
   "id": "9fef158f-082e-4d59-a6a7-f2deebb91557",
   "metadata": {},
   "outputs": [
    {
     "data": {
      "text/plain": [
       "1    0.606528\n",
       "0    0.393472\n",
       "Name: winner, dtype: float64"
      ]
     },
     "execution_count": 49,
     "metadata": {},
     "output_type": "execute_result"
    }
   ],
   "source": [
    "home_should_win = s2018[s2018[\"home_team_avg_score\"].gt(s2018[\"visitor_team_avg_score\"])]\n",
    "home_should_win[\"winner\"].value_counts(normalize=True)"
   ]
  },
  {
   "cell_type": "code",
   "execution_count": 49,
   "id": "2386b960-9237-4aa3-ba29-9cef2abdd28c",
   "metadata": {},
   "outputs": [
    {
     "data": {
      "text/plain": [
       "1    0.606528\n",
       "0    0.393472\n",
       "Name: winner, dtype: float64"
      ]
     },
     "execution_count": 49,
     "metadata": {},
     "output_type": "execute_result"
    }
   ],
   "source": [
    "home_should_win = s2018[s2018[\"home_team_avg_score\"].gt(s2018[\"visitor_team_avg_score\"])]\n",
    "home_should_win[\"winner\"].value_counts(normalize=True)"
   ]
  },
  {
   "cell_type": "code",
   "execution_count": null,
   "id": "d1cd1d4d-69b1-45eb-af15-6a238d8b96e4",
   "metadata": {},
   "outputs": [],
   "source": []
  },
  {
   "cell_type": "code",
   "execution_count": null,
   "id": "bb7820c4-3099-4aec-8b21-4796f14cd210",
   "metadata": {},
   "outputs": [],
   "source": []
  },
  {
   "cell_type": "code",
   "execution_count": 12,
   "id": "d2d8400a-a30f-4c1f-8f27-4eb9f51d14d6",
   "metadata": {},
   "outputs": [],
   "source": [
    "train = df[df[\"season\"].isin([2019, 2018, 2017])]"
   ]
  },
  {
   "cell_type": "code",
   "execution_count": 13,
   "id": "34415338-1b2d-4514-94f5-e7b9cecf4205",
   "metadata": {},
   "outputs": [
    {
     "data": {
      "text/plain": [
       "(3765, 4)"
      ]
     },
     "execution_count": 13,
     "metadata": {},
     "output_type": "execute_result"
    }
   ],
   "source": [
    "train.shape"
   ]
  },
  {
   "cell_type": "code",
   "execution_count": null,
   "id": "43e0e76c-3ea4-43d0-bd52-56175322ce4f",
   "metadata": {},
   "outputs": [],
   "source": [
    "y_train = train[\"winner\"]\n",
    "X_train = train[\""
   ]
  }
 ],
 "metadata": {
  "kernelspec": {
   "display_name": "bootcamp",
   "language": "python",
   "name": "bootcamp"
  },
  "language_info": {
   "codemirror_mode": {
    "name": "ipython",
    "version": 3
   },
   "file_extension": ".py",
   "mimetype": "text/x-python",
   "name": "python",
   "nbconvert_exporter": "python",
   "pygments_lexer": "ipython3",
   "version": "3.8.11"
  }
 },
 "nbformat": 4,
 "nbformat_minor": 5
}
