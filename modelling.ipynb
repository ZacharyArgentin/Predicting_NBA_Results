{
 "cells": [
  {
   "cell_type": "markdown",
   "id": "4f1757a6-f293-4e7d-84e6-102f1ce95541",
   "metadata": {},
   "source": [
    "# Modelling"
   ]
  },
  {
   "cell_type": "code",
   "execution_count": 232,
   "id": "267f238d-0d01-4e5b-b3f5-d125ffc4fc83",
   "metadata": {
    "tags": []
   },
   "outputs": [],
   "source": [
    "import pandas as pd\n",
    "import numpy as np"
   ]
  },
  {
   "cell_type": "code",
   "execution_count": 233,
   "id": "1c8b2034-c406-4c85-8568-ac91a37e7ca8",
   "metadata": {},
   "outputs": [],
   "source": [
    "df = pd.read_csv(\"data/games_with_features.csv\", index_col=\"id\")"
   ]
  },
  {
   "cell_type": "code",
   "execution_count": 234,
   "id": "507aa65d-a96e-4cbb-b1bc-553bfee7404d",
   "metadata": {},
   "outputs": [
    {
     "data": {
      "text/html": [
       "<div>\n",
       "<style scoped>\n",
       "    .dataframe tbody tr th:only-of-type {\n",
       "        vertical-align: middle;\n",
       "    }\n",
       "\n",
       "    .dataframe tbody tr th {\n",
       "        vertical-align: top;\n",
       "    }\n",
       "\n",
       "    .dataframe thead th {\n",
       "        text-align: right;\n",
       "    }\n",
       "</style>\n",
       "<table border=\"1\" class=\"dataframe\">\n",
       "  <thead>\n",
       "    <tr style=\"text-align: right;\">\n",
       "      <th></th>\n",
       "      <th>date</th>\n",
       "      <th>home_team_score</th>\n",
       "      <th>period</th>\n",
       "      <th>postseason</th>\n",
       "      <th>season</th>\n",
       "      <th>status</th>\n",
       "      <th>visitor_team_score</th>\n",
       "      <th>home_team.id</th>\n",
       "      <th>home_team.abbreviation</th>\n",
       "      <th>home_team.conference</th>\n",
       "      <th>...</th>\n",
       "      <th>visitor_team.full_name</th>\n",
       "      <th>winner</th>\n",
       "      <th>home_team_avg_score_historical</th>\n",
       "      <th>visitor_team_avg_score_historical</th>\n",
       "      <th>home_team_id_year</th>\n",
       "      <th>visitor_team_id_year</th>\n",
       "      <th>home_team_avg_score</th>\n",
       "      <th>visitor_team_avg_score</th>\n",
       "      <th>home_avg_score_diff</th>\n",
       "      <th>visitor_avg_score_diff</th>\n",
       "    </tr>\n",
       "    <tr>\n",
       "      <th>id</th>\n",
       "      <th></th>\n",
       "      <th></th>\n",
       "      <th></th>\n",
       "      <th></th>\n",
       "      <th></th>\n",
       "      <th></th>\n",
       "      <th></th>\n",
       "      <th></th>\n",
       "      <th></th>\n",
       "      <th></th>\n",
       "      <th></th>\n",
       "      <th></th>\n",
       "      <th></th>\n",
       "      <th></th>\n",
       "      <th></th>\n",
       "      <th></th>\n",
       "      <th></th>\n",
       "      <th></th>\n",
       "      <th></th>\n",
       "      <th></th>\n",
       "      <th></th>\n",
       "    </tr>\n",
       "  </thead>\n",
       "  <tbody>\n",
       "    <tr>\n",
       "      <th>47179</th>\n",
       "      <td>2019-01-30</td>\n",
       "      <td>126</td>\n",
       "      <td>4</td>\n",
       "      <td>False</td>\n",
       "      <td>2018</td>\n",
       "      <td>Final</td>\n",
       "      <td>94</td>\n",
       "      <td>2</td>\n",
       "      <td>BOS</td>\n",
       "      <td>East</td>\n",
       "      <td>...</td>\n",
       "      <td>Charlotte Hornets</td>\n",
       "      <td>1</td>\n",
       "      <td>105.8</td>\n",
       "      <td>98.2</td>\n",
       "      <td>2 2018</td>\n",
       "      <td>4 2018</td>\n",
       "      <td>112.8</td>\n",
       "      <td>108.3</td>\n",
       "      <td>3.620000</td>\n",
       "      <td>-3.831707</td>\n",
       "    </tr>\n",
       "    <tr>\n",
       "      <th>48751</th>\n",
       "      <td>2019-02-09</td>\n",
       "      <td>112</td>\n",
       "      <td>4</td>\n",
       "      <td>False</td>\n",
       "      <td>2018</td>\n",
       "      <td>Final</td>\n",
       "      <td>123</td>\n",
       "      <td>2</td>\n",
       "      <td>BOS</td>\n",
       "      <td>East</td>\n",
       "      <td>...</td>\n",
       "      <td>LA Clippers</td>\n",
       "      <td>0</td>\n",
       "      <td>105.8</td>\n",
       "      <td>100.7</td>\n",
       "      <td>2 2018</td>\n",
       "      <td>13 2018</td>\n",
       "      <td>112.8</td>\n",
       "      <td>113.1</td>\n",
       "      <td>3.620000</td>\n",
       "      <td>0.581818</td>\n",
       "    </tr>\n",
       "    <tr>\n",
       "      <th>48739</th>\n",
       "      <td>2019-02-08</td>\n",
       "      <td>117</td>\n",
       "      <td>4</td>\n",
       "      <td>False</td>\n",
       "      <td>2018</td>\n",
       "      <td>Final</td>\n",
       "      <td>110</td>\n",
       "      <td>23</td>\n",
       "      <td>PHI</td>\n",
       "      <td>East</td>\n",
       "      <td>...</td>\n",
       "      <td>Denver Nuggets</td>\n",
       "      <td>1</td>\n",
       "      <td>103.3</td>\n",
       "      <td>104.2</td>\n",
       "      <td>23 2018</td>\n",
       "      <td>8 2018</td>\n",
       "      <td>117.9</td>\n",
       "      <td>108.2</td>\n",
       "      <td>8.725532</td>\n",
       "      <td>-4.670213</td>\n",
       "    </tr>\n",
       "    <tr>\n",
       "      <th>48740</th>\n",
       "      <td>2019-02-08</td>\n",
       "      <td>119</td>\n",
       "      <td>4</td>\n",
       "      <td>False</td>\n",
       "      <td>2018</td>\n",
       "      <td>Final</td>\n",
       "      <td>106</td>\n",
       "      <td>30</td>\n",
       "      <td>WAS</td>\n",
       "      <td>East</td>\n",
       "      <td>...</td>\n",
       "      <td>Cleveland Cavaliers</td>\n",
       "      <td>1</td>\n",
       "      <td>103.4</td>\n",
       "      <td>98.3</td>\n",
       "      <td>30 2018</td>\n",
       "      <td>6 2018</td>\n",
       "      <td>116.4</td>\n",
       "      <td>103.8</td>\n",
       "      <td>7.429268</td>\n",
       "      <td>-8.419512</td>\n",
       "    </tr>\n",
       "    <tr>\n",
       "      <th>48746</th>\n",
       "      <td>2019-02-08</td>\n",
       "      <td>102</td>\n",
       "      <td>4</td>\n",
       "      <td>False</td>\n",
       "      <td>2018</td>\n",
       "      <td>Final</td>\n",
       "      <td>96</td>\n",
       "      <td>26</td>\n",
       "      <td>SAC</td>\n",
       "      <td>West</td>\n",
       "      <td>...</td>\n",
       "      <td>Miami Heat</td>\n",
       "      <td>1</td>\n",
       "      <td>105.5</td>\n",
       "      <td>96.0</td>\n",
       "      <td>26 2018</td>\n",
       "      <td>16 2018</td>\n",
       "      <td>114.9</td>\n",
       "      <td>105.4</td>\n",
       "      <td>5.129268</td>\n",
       "      <td>-6.670732</td>\n",
       "    </tr>\n",
       "  </tbody>\n",
       "</table>\n",
       "<p>5 rows × 26 columns</p>\n",
       "</div>"
      ],
      "text/plain": [
       "             date  home_team_score  period  postseason  season status  \\\n",
       "id                                                                      \n",
       "47179  2019-01-30              126       4       False    2018  Final   \n",
       "48751  2019-02-09              112       4       False    2018  Final   \n",
       "48739  2019-02-08              117       4       False    2018  Final   \n",
       "48740  2019-02-08              119       4       False    2018  Final   \n",
       "48746  2019-02-08              102       4       False    2018  Final   \n",
       "\n",
       "       visitor_team_score  home_team.id home_team.abbreviation  \\\n",
       "id                                                               \n",
       "47179                  94             2                    BOS   \n",
       "48751                 123             2                    BOS   \n",
       "48739                 110            23                    PHI   \n",
       "48740                 106            30                    WAS   \n",
       "48746                  96            26                    SAC   \n",
       "\n",
       "      home_team.conference  ... visitor_team.full_name winner  \\\n",
       "id                          ...                                 \n",
       "47179                 East  ...      Charlotte Hornets      1   \n",
       "48751                 East  ...            LA Clippers      0   \n",
       "48739                 East  ...         Denver Nuggets      1   \n",
       "48740                 East  ...    Cleveland Cavaliers      1   \n",
       "48746                 West  ...             Miami Heat      1   \n",
       "\n",
       "       home_team_avg_score_historical visitor_team_avg_score_historical  \\\n",
       "id                                                                        \n",
       "47179                           105.8                              98.2   \n",
       "48751                           105.8                             100.7   \n",
       "48739                           103.3                             104.2   \n",
       "48740                           103.4                              98.3   \n",
       "48746                           105.5                              96.0   \n",
       "\n",
       "      home_team_id_year visitor_team_id_year home_team_avg_score  \\\n",
       "id                                                                 \n",
       "47179            2 2018               4 2018               112.8   \n",
       "48751            2 2018              13 2018               112.8   \n",
       "48739           23 2018               8 2018               117.9   \n",
       "48740           30 2018               6 2018               116.4   \n",
       "48746           26 2018              16 2018               114.9   \n",
       "\n",
       "       visitor_team_avg_score  home_avg_score_diff  visitor_avg_score_diff  \n",
       "id                                                                          \n",
       "47179                   108.3             3.620000               -3.831707  \n",
       "48751                   113.1             3.620000                0.581818  \n",
       "48739                   108.2             8.725532               -4.670213  \n",
       "48740                   103.8             7.429268               -8.419512  \n",
       "48746                   105.4             5.129268               -6.670732  \n",
       "\n",
       "[5 rows x 26 columns]"
      ]
     },
     "execution_count": 234,
     "metadata": {},
     "output_type": "execute_result"
    }
   ],
   "source": [
    "df.head()"
   ]
  },
  {
   "cell_type": "markdown",
   "id": "7ed398ba-cc9f-46b7-b564-f07e93ca5414",
   "metadata": {},
   "source": [
    "### Ultra Baseline"
   ]
  },
  {
   "cell_type": "code",
   "execution_count": 242,
   "id": "4e11fc4a-cec9-4065-8e59-37b7635fea0e",
   "metadata": {},
   "outputs": [
    {
     "data": {
      "text/plain": [
       "1    0.664878\n",
       "0    0.335122\n",
       "Name: winner, dtype: float64"
      ]
     },
     "execution_count": 242,
     "metadata": {},
     "output_type": "execute_result"
    }
   ],
   "source": [
    "# predict winner only using home_team_avg_score when playing at home\n",
    "# vs visitor_team_avg_score when playing as visitor\n",
    "home_should_win = df[df[\"home_team_avg_score\"].gt(df[\"visitor_team_avg_score\"])]\n",
    "home_should_win[\"winner\"].value_counts(normalize=True)"
   ]
  },
  {
   "cell_type": "code",
   "execution_count": 243,
   "id": "e0f095a7-1c4e-4495-a88d-c20606deace8",
   "metadata": {},
   "outputs": [
    {
     "data": {
      "text/plain": [
       "1    0.669248\n",
       "0    0.330752\n",
       "Name: winner, dtype: float64"
      ]
     },
     "execution_count": 243,
     "metadata": {},
     "output_type": "execute_result"
    }
   ],
   "source": [
    "s2018 = df[df[\"season\"].eq(2018)]\n",
    "# predict winner only using home_team_avg_score when playing at home\n",
    "# vs visitor_team_avg_score when playing as visitor\n",
    "home_should_win = s2018[s2018[\"home_team_avg_score\"].gt(s2018[\"visitor_team_avg_score\"])]\n",
    "home_should_win[\"winner\"].value_counts(normalize=True)"
   ]
  },
  {
   "cell_type": "code",
   "execution_count": null,
   "id": "7c1a25c8-5929-49c0-b56b-f16f9052715e",
   "metadata": {},
   "outputs": [],
   "source": []
  },
  {
   "cell_type": "markdown",
   "id": "1306e238-de63-4029-9872-224390909bdc",
   "metadata": {},
   "source": [
    "> Home team wins 66% of the time when their avg score is higher   \n",
    "> there is a flaw with this baseline in that it uses the average score from all games   \n",
    "> that occured that season and correlates it with the winner of games that occured before   \n",
    "> that average score was known"
   ]
  },
  {
   "cell_type": "code",
   "execution_count": 58,
   "id": "270f1da7-0469-48be-94f4-4edb5fc8e0a4",
   "metadata": {},
   "outputs": [
    {
     "data": {
      "text/plain": [
       "1    0.717187\n",
       "0    0.282813\n",
       "Name: winner, dtype: float64"
      ]
     },
     "execution_count": 58,
     "metadata": {},
     "output_type": "execute_result"
    }
   ],
   "source": [
    "df[(df[\"home_team_avg_score\"] - 5).gt(df[\"visitor_team_avg_score\"])][\"winner\"].value_counts(normalize=True)"
   ]
  },
  {
   "cell_type": "markdown",
   "id": "bca328dc-089f-4c73-a4a0-fd14893668a0",
   "metadata": {},
   "source": [
    "> same experiment as above but only using teams that are heavy favourites (10 pt average more).  \n",
    "> win percantage seems to increse 1% per 1pt advantage"
   ]
  },
  {
   "cell_type": "code",
   "execution_count": null,
   "id": "ab38437c-996a-460f-bc8d-df3772fca3ff",
   "metadata": {},
   "outputs": [],
   "source": []
  },
  {
   "cell_type": "code",
   "execution_count": 61,
   "id": "c2e5d519-e56d-4381-a089-594eb4f1a7b4",
   "metadata": {},
   "outputs": [],
   "source": [
    "s2020 = df[df[\"season\"].eq(2020)]\n",
    "s2019 = df[df[\"season\"].eq(2019)]\n",
    "s2018 = df[df[\"season\"].eq(2018)]\n",
    "s2017 = df[df[\"season\"].eq(2017)]\n",
    "s2016 = df[df[\"season\"].eq(2016)]\n",
    "s2015 = df[df[\"season\"].eq(2015)]"
   ]
  },
  {
   "cell_type": "code",
   "execution_count": 206,
   "id": "5062b979-f9ac-4163-a7d1-cc495efbeb6e",
   "metadata": {},
   "outputs": [],
   "source": [
    "from sklearn.model_selection import train_test_split\n",
    "from sklearn.model_selection import cross_val_score\n",
    "from sklearn.model_selection import GridSearchCV\n",
    "\n",
    "from sklearn.linear_model import LogisticRegression\n",
    "from sklearn.naive_bayes import GaussianNB\n",
    "from sklearn.neighbors import KNeighborsClassifier\n",
    "from sklearn.ensemble import RandomForestClassifier\n",
    "from xgboost import XGBClassifier\n",
    "from sklearn.pipeline import Pipeline\n",
    "\n",
    "from sklearn.metrics import accuracy_score\n",
    "from sklearn.metrics import precision_score\n",
    "from sklearn.metrics import recall_score\n",
    "from sklearn.metrics import confusion_matrix"
   ]
  },
  {
   "cell_type": "markdown",
   "id": "62161092-788b-4731-b8a9-0a122e02c77e",
   "metadata": {},
   "source": [
    "### Baseline"
   ]
  },
  {
   "cell_type": "code",
   "execution_count": 215,
   "id": "31040c0a-65d5-40f5-8755-4230fd4b6619",
   "metadata": {},
   "outputs": [],
   "source": [
    "lr = LogisticRegression()\n",
    "nb = GaussianNB()\n",
    "knn = KNeighborsClassifier()\n",
    "rf = RandomForestClassifier()\n",
    "xgb = XGBClassifier(eval_metric=\"logloss\", use_label_encoder=False)\n",
    "\n",
    "models = [lr, nb, knn, rf, xgb]"
   ]
  },
  {
   "cell_type": "code",
   "execution_count": 222,
   "id": "02c568cb-e382-4936-bc43-ebe86446d33d",
   "metadata": {},
   "outputs": [],
   "source": [
    "def train_model(model, train_data, test_data):\n",
    "    X_train = train_data.drop(\"winner\", axis=1)\n",
    "    y_train = train_data[\"winner\"]\n",
    "    X_test = test_data.drop(\"winner\", axis=1)\n",
    "    y_test = test_data[\"winner\"]                     \n",
    "\n",
    "    model = model\n",
    "    model.fit(X_train, y_train)\n",
    "    y_pred = model.predict(X_test)\n",
    "\n",
    "    print(accuracy_score(y_test, y_pred))\n",
    "    #print(cross_val_score(model, feats, target).mean())"
   ]
  },
  {
   "cell_type": "code",
   "execution_count": 231,
   "id": "be23797d-2491-4b57-b541-978ded124ae8",
   "metadata": {},
   "outputs": [
    {
     "name": "stdout",
     "output_type": "stream",
     "text": [
      "0.6399694889397407\n",
      "0.6414950419527079\n",
      "0.5713196033562167\n",
      "0.5812356979405034\n",
      "0.5408085430968727\n"
     ]
    }
   ],
   "source": [
    "train_data = df[df[\"season\"].isin([2017])][[\"home_team_avg_score\", \"visitor_team_avg_score\", \"winner\"]]\n",
    "test_data = df[df[\"season\"].isin([2018])][[\"home_team_avg_score\", \"visitor_team_avg_score\", \"winner\"]]\n",
    "for model in models:\n",
    "    train_model(model, train_data, test_data)"
   ]
  },
  {
   "cell_type": "markdown",
   "id": "39d96b06-1f71-4b6f-8b5d-e02dd48781a6",
   "metadata": {},
   "source": [
    "#### using score diff feat"
   ]
  },
  {
   "cell_type": "code",
   "execution_count": 261,
   "id": "d27311c5-cdd5-4dc8-8ac5-9ddf36520769",
   "metadata": {},
   "outputs": [
    {
     "name": "stdout",
     "output_type": "stream",
     "text": [
      "0.6361556064073226\n",
      "0.6376811594202898\n",
      "0.566742944317315\n",
      "0.5903890160183066\n",
      "0.5881006864988558\n"
     ]
    }
   ],
   "source": [
    "features = [\"winner\", \"home_team_avg_score\", \"visitor_team_avg_score\", \"home_avg_score_diff\", \"visitor_avg_score_diff\"]\n",
    "train_data = df[df[\"season\"].isin(range(2015,2018))][features]\n",
    "test_data = df[df[\"season\"].isin([2018])][features]\n",
    "for model in models:\n",
    "    train_model(model, train_data, test_data)"
   ]
  },
  {
   "cell_type": "markdown",
   "id": "6fa345a8-53bb-497d-8444-bb631ddf286f",
   "metadata": {},
   "source": [
    "> xgboost and random forest predict around 80% correctly when using data from the same season.  \n",
    "> unfortunately when trying to predict results of future seasons the result is horrible."
   ]
  },
  {
   "cell_type": "markdown",
   "id": "84ea38b3-17a1-4f32-864f-da8aa63bfa04",
   "metadata": {},
   "source": [
    "##### The Big problem with this so far is that averages for the season are used to predict outcomes of games that contributed to those averages"
   ]
  },
  {
   "cell_type": "code",
   "execution_count": null,
   "id": "f1b91298-2fc4-490b-8da4-89a6451b0bec",
   "metadata": {},
   "outputs": [],
   "source": []
  }
 ],
 "metadata": {
  "kernelspec": {
   "display_name": "bootcamp",
   "language": "python",
   "name": "bootcamp"
  },
  "language_info": {
   "codemirror_mode": {
    "name": "ipython",
    "version": 3
   },
   "file_extension": ".py",
   "mimetype": "text/x-python",
   "name": "python",
   "nbconvert_exporter": "python",
   "pygments_lexer": "ipython3",
   "version": "3.8.11"
  }
 },
 "nbformat": 4,
 "nbformat_minor": 5
}
