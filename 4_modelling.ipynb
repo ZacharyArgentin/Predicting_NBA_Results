{
 "cells": [
  {
   "cell_type": "markdown",
   "id": "4f1757a6-f293-4e7d-84e6-102f1ce95541",
   "metadata": {},
   "source": [
    "# Modelling"
   ]
  },
  {
   "cell_type": "code",
   "execution_count": 3,
   "id": "267f238d-0d01-4e5b-b3f5-d125ffc4fc83",
   "metadata": {
    "tags": []
   },
   "outputs": [],
   "source": [
    "import pandas as pd\n",
    "import numpy as np"
   ]
  },
  {
   "cell_type": "code",
   "execution_count": 108,
   "id": "5062b979-f9ac-4163-a7d1-cc495efbeb6e",
   "metadata": {},
   "outputs": [],
   "source": [
    "from sklearn.model_selection import train_test_split\n",
    "from sklearn.model_selection import cross_val_score\n",
    "from sklearn.model_selection import GridSearchCV\n",
    "\n",
    "from sklearn.linear_model import LogisticRegression\n",
    "from sklearn.naive_bayes import GaussianNB\n",
    "from sklearn.neighbors import KNeighborsClassifier\n",
    "from sklearn.ensemble import RandomForestClassifier\n",
    "from xgboost import XGBClassifier\n",
    "from sklearn.pipeline import Pipeline\n",
    "\n",
    "from sklearn.metrics import accuracy_score\n",
    "from sklearn.metrics import precision_score\n",
    "from sklearn.metrics import recall_score\n",
    "from sklearn.metrics import confusion_matrix\n",
    "from sklearn.metrics import plot_confusion_matrix\n",
    "\n",
    "import matplotlib.pyplot as plt"
   ]
  },
  {
   "cell_type": "code",
   "execution_count": 103,
   "id": "6a8269b2-b212-4532-b4df-d3924bb87194",
   "metadata": {},
   "outputs": [],
   "source": [
    "def npv_score(y_test, y_pred):\n",
    "    true_negatives = np.unique(np.array(list(zip(y_test.values, y_pred))).sum(axis=1), return_counts=True)[1][0]\n",
    "    predicted_negatives = np.unique(y_pred, return_counts=True)[1][0]\n",
    "    npv = true_negatives / predicted_negatives\n",
    "    return npv"
   ]
  },
  {
   "cell_type": "code",
   "execution_count": 5,
   "id": "1c8b2034-c406-4c85-8568-ac91a37e7ca8",
   "metadata": {},
   "outputs": [],
   "source": [
    "df = pd.read_csv(\"data/games_with_features.csv\", index_col=\"id\")"
   ]
  },
  {
   "cell_type": "code",
   "execution_count": 6,
   "id": "507aa65d-a96e-4cbb-b1bc-553bfee7404d",
   "metadata": {},
   "outputs": [
    {
     "data": {
      "text/html": [
       "<div>\n",
       "<style scoped>\n",
       "    .dataframe tbody tr th:only-of-type {\n",
       "        vertical-align: middle;\n",
       "    }\n",
       "\n",
       "    .dataframe tbody tr th {\n",
       "        vertical-align: top;\n",
       "    }\n",
       "\n",
       "    .dataframe thead th {\n",
       "        text-align: right;\n",
       "    }\n",
       "</style>\n",
       "<table border=\"1\" class=\"dataframe\">\n",
       "  <thead>\n",
       "    <tr style=\"text-align: right;\">\n",
       "      <th></th>\n",
       "      <th>date</th>\n",
       "      <th>home_team_score</th>\n",
       "      <th>period</th>\n",
       "      <th>postseason</th>\n",
       "      <th>season</th>\n",
       "      <th>status</th>\n",
       "      <th>visitor_team_score</th>\n",
       "      <th>home_team.id</th>\n",
       "      <th>home_team.abbreviation</th>\n",
       "      <th>home_team.conference</th>\n",
       "      <th>...</th>\n",
       "      <th>visitor_team.full_name</th>\n",
       "      <th>winner</th>\n",
       "      <th>home_team_avg_score_historical</th>\n",
       "      <th>visitor_team_avg_score_historical</th>\n",
       "      <th>home_team_id_year</th>\n",
       "      <th>visitor_team_id_year</th>\n",
       "      <th>home_team_avg_score</th>\n",
       "      <th>visitor_team_avg_score</th>\n",
       "      <th>home_avg_score_diff</th>\n",
       "      <th>visitor_avg_score_diff</th>\n",
       "    </tr>\n",
       "    <tr>\n",
       "      <th>id</th>\n",
       "      <th></th>\n",
       "      <th></th>\n",
       "      <th></th>\n",
       "      <th></th>\n",
       "      <th></th>\n",
       "      <th></th>\n",
       "      <th></th>\n",
       "      <th></th>\n",
       "      <th></th>\n",
       "      <th></th>\n",
       "      <th></th>\n",
       "      <th></th>\n",
       "      <th></th>\n",
       "      <th></th>\n",
       "      <th></th>\n",
       "      <th></th>\n",
       "      <th></th>\n",
       "      <th></th>\n",
       "      <th></th>\n",
       "      <th></th>\n",
       "      <th></th>\n",
       "    </tr>\n",
       "  </thead>\n",
       "  <tbody>\n",
       "    <tr>\n",
       "      <th>47179</th>\n",
       "      <td>2019-01-30</td>\n",
       "      <td>126</td>\n",
       "      <td>4</td>\n",
       "      <td>False</td>\n",
       "      <td>2018</td>\n",
       "      <td>Final</td>\n",
       "      <td>94</td>\n",
       "      <td>2</td>\n",
       "      <td>BOS</td>\n",
       "      <td>East</td>\n",
       "      <td>...</td>\n",
       "      <td>Charlotte Hornets</td>\n",
       "      <td>1</td>\n",
       "      <td>105.8</td>\n",
       "      <td>98.2</td>\n",
       "      <td>2 2018</td>\n",
       "      <td>4 2018</td>\n",
       "      <td>112.8</td>\n",
       "      <td>108.3</td>\n",
       "      <td>3.620000</td>\n",
       "      <td>-3.831707</td>\n",
       "    </tr>\n",
       "    <tr>\n",
       "      <th>48751</th>\n",
       "      <td>2019-02-09</td>\n",
       "      <td>112</td>\n",
       "      <td>4</td>\n",
       "      <td>False</td>\n",
       "      <td>2018</td>\n",
       "      <td>Final</td>\n",
       "      <td>123</td>\n",
       "      <td>2</td>\n",
       "      <td>BOS</td>\n",
       "      <td>East</td>\n",
       "      <td>...</td>\n",
       "      <td>LA Clippers</td>\n",
       "      <td>0</td>\n",
       "      <td>105.8</td>\n",
       "      <td>100.7</td>\n",
       "      <td>2 2018</td>\n",
       "      <td>13 2018</td>\n",
       "      <td>112.8</td>\n",
       "      <td>113.1</td>\n",
       "      <td>3.620000</td>\n",
       "      <td>0.581818</td>\n",
       "    </tr>\n",
       "    <tr>\n",
       "      <th>48739</th>\n",
       "      <td>2019-02-08</td>\n",
       "      <td>117</td>\n",
       "      <td>4</td>\n",
       "      <td>False</td>\n",
       "      <td>2018</td>\n",
       "      <td>Final</td>\n",
       "      <td>110</td>\n",
       "      <td>23</td>\n",
       "      <td>PHI</td>\n",
       "      <td>East</td>\n",
       "      <td>...</td>\n",
       "      <td>Denver Nuggets</td>\n",
       "      <td>1</td>\n",
       "      <td>103.3</td>\n",
       "      <td>104.2</td>\n",
       "      <td>23 2018</td>\n",
       "      <td>8 2018</td>\n",
       "      <td>117.9</td>\n",
       "      <td>108.2</td>\n",
       "      <td>8.725532</td>\n",
       "      <td>-4.670213</td>\n",
       "    </tr>\n",
       "    <tr>\n",
       "      <th>48740</th>\n",
       "      <td>2019-02-08</td>\n",
       "      <td>119</td>\n",
       "      <td>4</td>\n",
       "      <td>False</td>\n",
       "      <td>2018</td>\n",
       "      <td>Final</td>\n",
       "      <td>106</td>\n",
       "      <td>30</td>\n",
       "      <td>WAS</td>\n",
       "      <td>East</td>\n",
       "      <td>...</td>\n",
       "      <td>Cleveland Cavaliers</td>\n",
       "      <td>1</td>\n",
       "      <td>103.4</td>\n",
       "      <td>98.3</td>\n",
       "      <td>30 2018</td>\n",
       "      <td>6 2018</td>\n",
       "      <td>116.4</td>\n",
       "      <td>103.8</td>\n",
       "      <td>7.429268</td>\n",
       "      <td>-8.419512</td>\n",
       "    </tr>\n",
       "    <tr>\n",
       "      <th>48746</th>\n",
       "      <td>2019-02-08</td>\n",
       "      <td>102</td>\n",
       "      <td>4</td>\n",
       "      <td>False</td>\n",
       "      <td>2018</td>\n",
       "      <td>Final</td>\n",
       "      <td>96</td>\n",
       "      <td>26</td>\n",
       "      <td>SAC</td>\n",
       "      <td>West</td>\n",
       "      <td>...</td>\n",
       "      <td>Miami Heat</td>\n",
       "      <td>1</td>\n",
       "      <td>105.5</td>\n",
       "      <td>96.0</td>\n",
       "      <td>26 2018</td>\n",
       "      <td>16 2018</td>\n",
       "      <td>114.9</td>\n",
       "      <td>105.4</td>\n",
       "      <td>5.129268</td>\n",
       "      <td>-6.670732</td>\n",
       "    </tr>\n",
       "  </tbody>\n",
       "</table>\n",
       "<p>5 rows × 26 columns</p>\n",
       "</div>"
      ],
      "text/plain": [
       "             date  home_team_score  period  postseason  season status  \\\n",
       "id                                                                      \n",
       "47179  2019-01-30              126       4       False    2018  Final   \n",
       "48751  2019-02-09              112       4       False    2018  Final   \n",
       "48739  2019-02-08              117       4       False    2018  Final   \n",
       "48740  2019-02-08              119       4       False    2018  Final   \n",
       "48746  2019-02-08              102       4       False    2018  Final   \n",
       "\n",
       "       visitor_team_score  home_team.id home_team.abbreviation  \\\n",
       "id                                                               \n",
       "47179                  94             2                    BOS   \n",
       "48751                 123             2                    BOS   \n",
       "48739                 110            23                    PHI   \n",
       "48740                 106            30                    WAS   \n",
       "48746                  96            26                    SAC   \n",
       "\n",
       "      home_team.conference  ... visitor_team.full_name winner  \\\n",
       "id                          ...                                 \n",
       "47179                 East  ...      Charlotte Hornets      1   \n",
       "48751                 East  ...            LA Clippers      0   \n",
       "48739                 East  ...         Denver Nuggets      1   \n",
       "48740                 East  ...    Cleveland Cavaliers      1   \n",
       "48746                 West  ...             Miami Heat      1   \n",
       "\n",
       "       home_team_avg_score_historical visitor_team_avg_score_historical  \\\n",
       "id                                                                        \n",
       "47179                           105.8                              98.2   \n",
       "48751                           105.8                             100.7   \n",
       "48739                           103.3                             104.2   \n",
       "48740                           103.4                              98.3   \n",
       "48746                           105.5                              96.0   \n",
       "\n",
       "      home_team_id_year visitor_team_id_year home_team_avg_score  \\\n",
       "id                                                                 \n",
       "47179            2 2018               4 2018               112.8   \n",
       "48751            2 2018              13 2018               112.8   \n",
       "48739           23 2018               8 2018               117.9   \n",
       "48740           30 2018               6 2018               116.4   \n",
       "48746           26 2018              16 2018               114.9   \n",
       "\n",
       "       visitor_team_avg_score  home_avg_score_diff  visitor_avg_score_diff  \n",
       "id                                                                          \n",
       "47179                   108.3             3.620000               -3.831707  \n",
       "48751                   113.1             3.620000                0.581818  \n",
       "48739                   108.2             8.725532               -4.670213  \n",
       "48740                   103.8             7.429268               -8.419512  \n",
       "48746                   105.4             5.129268               -6.670732  \n",
       "\n",
       "[5 rows x 26 columns]"
      ]
     },
     "execution_count": 6,
     "metadata": {},
     "output_type": "execute_result"
    }
   ],
   "source": [
    "df.head()"
   ]
  },
  {
   "cell_type": "markdown",
   "id": "7ed398ba-cc9f-46b7-b564-f07e93ca5414",
   "metadata": {},
   "source": [
    "### Ultra Baseline"
   ]
  },
  {
   "cell_type": "code",
   "execution_count": 7,
   "id": "4e11fc4a-cec9-4065-8e59-37b7635fea0e",
   "metadata": {},
   "outputs": [
    {
     "data": {
      "text/plain": [
       "1    0.664878\n",
       "0    0.335122\n",
       "Name: winner, dtype: float64"
      ]
     },
     "execution_count": 7,
     "metadata": {},
     "output_type": "execute_result"
    }
   ],
   "source": [
    "# predict winner only using home_team_avg_score when playing at home\n",
    "# vs visitor_team_avg_score when playing as visitor\n",
    "home_should_win = df[df[\"home_team_avg_score\"].gt(df[\"visitor_team_avg_score\"])]\n",
    "home_should_win[\"winner\"].value_counts(normalize=True)"
   ]
  },
  {
   "cell_type": "code",
   "execution_count": 8,
   "id": "e0f095a7-1c4e-4495-a88d-c20606deace8",
   "metadata": {},
   "outputs": [
    {
     "data": {
      "text/plain": [
       "1    0.669248\n",
       "0    0.330752\n",
       "Name: winner, dtype: float64"
      ]
     },
     "execution_count": 8,
     "metadata": {},
     "output_type": "execute_result"
    }
   ],
   "source": [
    "s2018 = df[df[\"season\"].eq(2018)]\n",
    "# predict winner only using home_team_avg_score when playing at home\n",
    "# vs visitor_team_avg_score when playing as visitor\n",
    "home_should_win = s2018[s2018[\"home_team_avg_score\"].gt(s2018[\"visitor_team_avg_score\"])]\n",
    "home_should_win[\"winner\"].value_counts(normalize=True)"
   ]
  },
  {
   "cell_type": "code",
   "execution_count": null,
   "id": "7c1a25c8-5929-49c0-b56b-f16f9052715e",
   "metadata": {},
   "outputs": [],
   "source": []
  },
  {
   "cell_type": "markdown",
   "id": "1306e238-de63-4029-9872-224390909bdc",
   "metadata": {},
   "source": [
    "> Home team wins 66% of the time when their avg score is higher   \n",
    "> there is a flaw with this baseline in that it uses the average score from all games   \n",
    "> that occured that season and correlates it with the winner of games that occured before   \n",
    "> that average score was known"
   ]
  },
  {
   "cell_type": "code",
   "execution_count": 9,
   "id": "270f1da7-0469-48be-94f4-4edb5fc8e0a4",
   "metadata": {},
   "outputs": [
    {
     "data": {
      "text/plain": [
       "1    0.717187\n",
       "0    0.282813\n",
       "Name: winner, dtype: float64"
      ]
     },
     "execution_count": 9,
     "metadata": {},
     "output_type": "execute_result"
    }
   ],
   "source": [
    "df[(df[\"home_team_avg_score\"] - 5).gt(df[\"visitor_team_avg_score\"])][\"winner\"].value_counts(normalize=True)"
   ]
  },
  {
   "cell_type": "markdown",
   "id": "bca328dc-089f-4c73-a4a0-fd14893668a0",
   "metadata": {},
   "source": [
    "> same experiment as above but only using teams that are heavy favourites (10 pt average more).  \n",
    "> win percantage seems to increse 1% per 1pt advantage"
   ]
  },
  {
   "cell_type": "code",
   "execution_count": null,
   "id": "ab38437c-996a-460f-bc8d-df3772fca3ff",
   "metadata": {},
   "outputs": [],
   "source": []
  },
  {
   "cell_type": "code",
   "execution_count": 10,
   "id": "c2e5d519-e56d-4381-a089-594eb4f1a7b4",
   "metadata": {},
   "outputs": [],
   "source": [
    "s2020 = df[df[\"season\"].eq(2020)]\n",
    "s2019 = df[df[\"season\"].eq(2019)]\n",
    "s2018 = df[df[\"season\"].eq(2018)]\n",
    "s2017 = df[df[\"season\"].eq(2017)]\n",
    "s2016 = df[df[\"season\"].eq(2016)]\n",
    "s2015 = df[df[\"season\"].eq(2015)]"
   ]
  },
  {
   "cell_type": "markdown",
   "id": "62161092-788b-4731-b8a9-0a122e02c77e",
   "metadata": {},
   "source": [
    "### Baseline"
   ]
  },
  {
   "cell_type": "code",
   "execution_count": 11,
   "id": "31040c0a-65d5-40f5-8755-4230fd4b6619",
   "metadata": {},
   "outputs": [],
   "source": [
    "lr = LogisticRegression(max_iter=1000)\n",
    "nb = GaussianNB()\n",
    "knn = KNeighborsClassifier()\n",
    "rf = RandomForestClassifier()\n",
    "xgb = XGBClassifier(eval_metric=\"logloss\", use_label_encoder=False)\n",
    "\n",
    "models = [lr, nb, knn, rf, xgb]"
   ]
  },
  {
   "cell_type": "code",
   "execution_count": 12,
   "id": "02c568cb-e382-4936-bc43-ebe86446d33d",
   "metadata": {},
   "outputs": [],
   "source": [
    "def train_model(model, train_data, test_data):\n",
    "    X_train = train_data.drop(\"winner\", axis=1)\n",
    "    y_train = train_data[\"winner\"]\n",
    "    X_test = test_data.drop(\"winner\", axis=1)\n",
    "    y_test = test_data[\"winner\"]                     \n",
    "\n",
    "    model = model\n",
    "    model.fit(X_train, y_train)\n",
    "    y_pred = model.predict(X_test)\n",
    "\n",
    "    print(accuracy_score(y_test, y_pred))\n",
    "    #print(cross_val_score(model, feats, target).mean())"
   ]
  },
  {
   "cell_type": "code",
   "execution_count": 13,
   "id": "be23797d-2491-4b57-b541-978ded124ae8",
   "metadata": {},
   "outputs": [
    {
     "name": "stdout",
     "output_type": "stream",
     "text": [
      "0.6399694889397407\n",
      "0.6414950419527079\n",
      "0.5713196033562167\n",
      "0.5530129672006102\n",
      "0.5408085430968727\n"
     ]
    }
   ],
   "source": [
    "train_data = df[df[\"season\"].isin([2017])][[\"home_team_avg_score\", \"visitor_team_avg_score\", \"winner\"]]\n",
    "test_data = df[df[\"season\"].isin([2018])][[\"home_team_avg_score\", \"visitor_team_avg_score\", \"winner\"]]\n",
    "for model in models:\n",
    "    train_model(model, train_data, test_data)"
   ]
  },
  {
   "cell_type": "markdown",
   "id": "39d96b06-1f71-4b6f-8b5d-e02dd48781a6",
   "metadata": {},
   "source": [
    "#### using score diff feat"
   ]
  },
  {
   "cell_type": "code",
   "execution_count": 14,
   "id": "d27311c5-cdd5-4dc8-8ac5-9ddf36520769",
   "metadata": {},
   "outputs": [
    {
     "name": "stdout",
     "output_type": "stream",
     "text": [
      "0.6361556064073226\n",
      "0.6376811594202898\n",
      "0.566742944317315\n",
      "0.6064073226544623\n",
      "0.5881006864988558\n"
     ]
    }
   ],
   "source": [
    "features = [\"winner\", \"home_team_avg_score\", \"visitor_team_avg_score\", \"home_avg_score_diff\", \"visitor_avg_score_diff\"]\n",
    "train_data = df[df[\"season\"].isin(range(2015,2018))][features]\n",
    "test_data = df[df[\"season\"].isin([2018])][features]\n",
    "for model in models:\n",
    "    train_model(model, train_data, test_data)"
   ]
  },
  {
   "cell_type": "markdown",
   "id": "6fa345a8-53bb-497d-8444-bb631ddf286f",
   "metadata": {},
   "source": [
    "> xgboost and random forest predict around 80% correctly when using data from the same season.  \n",
    "> unfortunately when trying to predict results of future seasons the result is horrible."
   ]
  },
  {
   "cell_type": "markdown",
   "id": "84ea38b3-17a1-4f32-864f-da8aa63bfa04",
   "metadata": {},
   "source": [
    "##### The Big problem with this so far is that averages for the season are used to predict outcomes of games that contributed to those averages"
   ]
  },
  {
   "cell_type": "code",
   "execution_count": null,
   "id": "f1b91298-2fc4-490b-8da4-89a6451b0bec",
   "metadata": {},
   "outputs": [],
   "source": []
  },
  {
   "cell_type": "markdown",
   "id": "83b18d1e-bc54-4f7d-b11e-bc75ea72ba42",
   "metadata": {},
   "source": [
    "### 2020 stats with test info leaking into train set"
   ]
  },
  {
   "cell_type": "code",
   "execution_count": 15,
   "id": "6734ded0-65cc-48d9-b1c2-ad3f3a620bee",
   "metadata": {},
   "outputs": [],
   "source": [
    "stats = pd.read_csv(\"data/stats_feats2020.csv\", index_col=\"game_id\")"
   ]
  },
  {
   "cell_type": "code",
   "execution_count": 16,
   "id": "f118cf6f-d21a-492d-923d-1ae2ef291887",
   "metadata": {},
   "outputs": [
    {
     "name": "stdout",
     "output_type": "stream",
     "text": [
      "LogisticRegression(max_iter=1000)\n",
      "0.8137603795966786\n",
      "0.8156028368794326\n",
      "0.8152882205513784\n",
      "GaussianNB()\n",
      "0.7663107947805456\n",
      "0.7624113475177305\n",
      "0.7197994987468672\n",
      "KNeighborsClassifier()\n",
      "0.8054567022538552\n",
      "0.7127659574468085\n",
      "0.6771303258145364\n",
      "RandomForestClassifier()\n",
      "1.0\n",
      "0.74822695035461\n",
      "0.7197994987468672\n",
      "XGBClassifier(base_score=0.5, booster='gbtree', colsample_bylevel=1,\n",
      "              colsample_bynode=1, colsample_bytree=1, eval_metric='logloss',\n",
      "              gamma=0, gpu_id=-1, importance_type='gain',\n",
      "              interaction_constraints='', learning_rate=0.300000012,\n",
      "              max_delta_step=0, max_depth=6, min_child_weight=1, missing=nan,\n",
      "              monotone_constraints='()', n_estimators=100, n_jobs=8,\n",
      "              num_parallel_tree=1, random_state=0, reg_alpha=0, reg_lambda=1,\n",
      "              scale_pos_weight=1, subsample=1, tree_method='exact',\n",
      "              use_label_encoder=False, validate_parameters=1, verbosity=None)\n",
      "1.0\n",
      "0.7624113475177305\n",
      "0.7199874686716792\n"
     ]
    }
   ],
   "source": [
    "X = stats.drop([\"winner\", \"game_date\", \"season\"], axis=1)\n",
    "y = stats[\"winner\"]\n",
    "\n",
    "X_train, X_test, y_train, y_test = train_test_split(X, y, train_size=0.75)\n",
    "\n",
    "for model in models:\n",
    "    model = model\n",
    "    model.fit(X_train, y_train)\n",
    "    y_train_pred = model.predict(X_train)\n",
    "    y_pred = model.predict(X_test)\n",
    "    \n",
    "    print(model)\n",
    "    print(accuracy_score(y_train, y_train_pred))\n",
    "    print(accuracy_score(y_test, y_pred))\n",
    "    print(cross_val_score(model, X_test, y_test).mean())"
   ]
  },
  {
   "cell_type": "markdown",
   "id": "577f94f4-49b4-402a-943b-c2cff54e5c9f",
   "metadata": {},
   "source": [
    "> this seems to good to be true   "
   ]
  },
  {
   "cell_type": "markdown",
   "id": "38cbc0db-9fde-42de-a8b6-acec6e30fc96",
   "metadata": {},
   "source": [
    "## Using stats from 2015 - 2020"
   ]
  },
  {
   "cell_type": "code",
   "execution_count": 17,
   "id": "4876775c-bd7d-4124-b89f-2873ea0e905c",
   "metadata": {},
   "outputs": [],
   "source": [
    "lr = LogisticRegression(max_iter=1000)\n",
    "nb = GaussianNB()\n",
    "knn = KNeighborsClassifier()\n",
    "rf = RandomForestClassifier(n_estimators=100)\n",
    "xgb = XGBClassifier(n_estimators=100, eval_metric=\"logloss\", use_label_encoder=False)\n",
    "\n",
    "models = [lr, nb, knn, rf, xgb]"
   ]
  },
  {
   "cell_type": "code",
   "execution_count": 18,
   "id": "8685a42a-2293-4fa2-be4f-a5f0d4c11826",
   "metadata": {},
   "outputs": [],
   "source": [
    "stats = pd.read_csv(\"data/stats_feats.csv\", index_col=\"game_id\")"
   ]
  },
  {
   "cell_type": "code",
   "execution_count": 19,
   "id": "5c1c1da6-68b6-404c-bcd6-843416dbf10e",
   "metadata": {},
   "outputs": [
    {
     "name": "stderr",
     "output_type": "stream",
     "text": [
      "/Users/zacharyargentin/opt/anaconda3/envs/bootcamp/lib/python3.8/site-packages/sklearn/linear_model/_logistic.py:763: ConvergenceWarning: lbfgs failed to converge (status=1):\n",
      "STOP: TOTAL NO. of ITERATIONS REACHED LIMIT.\n",
      "\n",
      "Increase the number of iterations (max_iter) or scale the data as shown in:\n",
      "    https://scikit-learn.org/stable/modules/preprocessing.html\n",
      "Please also refer to the documentation for alternative solver options:\n",
      "    https://scikit-learn.org/stable/modules/linear_model.html#logistic-regression\n",
      "  n_iter_i = _check_optimize_result(\n"
     ]
    },
    {
     "name": "stdout",
     "output_type": "stream",
     "text": [
      "LogisticRegression(max_iter=1000)\n",
      "0.6237070748862226\n",
      "0.630272952853598\n"
     ]
    },
    {
     "name": "stderr",
     "output_type": "stream",
     "text": [
      "/Users/zacharyargentin/opt/anaconda3/envs/bootcamp/lib/python3.8/site-packages/sklearn/linear_model/_logistic.py:763: ConvergenceWarning: lbfgs failed to converge (status=1):\n",
      "STOP: TOTAL NO. of ITERATIONS REACHED LIMIT.\n",
      "\n",
      "Increase the number of iterations (max_iter) or scale the data as shown in:\n",
      "    https://scikit-learn.org/stable/modules/preprocessing.html\n",
      "Please also refer to the documentation for alternative solver options:\n",
      "    https://scikit-learn.org/stable/modules/linear_model.html#logistic-regression\n",
      "  n_iter_i = _check_optimize_result(\n",
      "/Users/zacharyargentin/opt/anaconda3/envs/bootcamp/lib/python3.8/site-packages/sklearn/linear_model/_logistic.py:763: ConvergenceWarning: lbfgs failed to converge (status=1):\n",
      "STOP: TOTAL NO. of ITERATIONS REACHED LIMIT.\n",
      "\n",
      "Increase the number of iterations (max_iter) or scale the data as shown in:\n",
      "    https://scikit-learn.org/stable/modules/preprocessing.html\n",
      "Please also refer to the documentation for alternative solver options:\n",
      "    https://scikit-learn.org/stable/modules/linear_model.html#logistic-regression\n",
      "  n_iter_i = _check_optimize_result(\n",
      "/Users/zacharyargentin/opt/anaconda3/envs/bootcamp/lib/python3.8/site-packages/sklearn/linear_model/_logistic.py:763: ConvergenceWarning: lbfgs failed to converge (status=1):\n",
      "STOP: TOTAL NO. of ITERATIONS REACHED LIMIT.\n",
      "\n",
      "Increase the number of iterations (max_iter) or scale the data as shown in:\n",
      "    https://scikit-learn.org/stable/modules/preprocessing.html\n",
      "Please also refer to the documentation for alternative solver options:\n",
      "    https://scikit-learn.org/stable/modules/linear_model.html#logistic-regression\n",
      "  n_iter_i = _check_optimize_result(\n",
      "/Users/zacharyargentin/opt/anaconda3/envs/bootcamp/lib/python3.8/site-packages/sklearn/linear_model/_logistic.py:763: ConvergenceWarning: lbfgs failed to converge (status=1):\n",
      "STOP: TOTAL NO. of ITERATIONS REACHED LIMIT.\n",
      "\n",
      "Increase the number of iterations (max_iter) or scale the data as shown in:\n",
      "    https://scikit-learn.org/stable/modules/preprocessing.html\n",
      "Please also refer to the documentation for alternative solver options:\n",
      "    https://scikit-learn.org/stable/modules/linear_model.html#logistic-regression\n",
      "  n_iter_i = _check_optimize_result(\n",
      "/Users/zacharyargentin/opt/anaconda3/envs/bootcamp/lib/python3.8/site-packages/sklearn/linear_model/_logistic.py:763: ConvergenceWarning: lbfgs failed to converge (status=1):\n",
      "STOP: TOTAL NO. of ITERATIONS REACHED LIMIT.\n",
      "\n",
      "Increase the number of iterations (max_iter) or scale the data as shown in:\n",
      "    https://scikit-learn.org/stable/modules/preprocessing.html\n",
      "Please also refer to the documentation for alternative solver options:\n",
      "    https://scikit-learn.org/stable/modules/linear_model.html#logistic-regression\n",
      "  n_iter_i = _check_optimize_result(\n"
     ]
    },
    {
     "name": "stdout",
     "output_type": "stream",
     "text": [
      "0.6321250697075169\n",
      "GaussianNB()\n",
      "0.5798510550268928\n",
      "0.5905707196029777\n",
      "0.5843701324923563\n",
      "KNeighborsClassifier()\n",
      "0.7254861398427803\n",
      "0.5843672456575683\n",
      "0.560784954714151\n",
      "RandomForestClassifier()\n",
      "1.0\n",
      "0.6253101736972705\n",
      "0.5893179239659251\n",
      "XGBClassifier(base_score=0.5, booster='gbtree', colsample_bylevel=1,\n",
      "              colsample_bynode=1, colsample_bytree=1, eval_metric='logloss',\n",
      "              gamma=0, gpu_id=-1, importance_type='gain',\n",
      "              interaction_constraints='', learning_rate=0.300000012,\n",
      "              max_delta_step=0, max_depth=6, min_child_weight=1, missing=nan,\n",
      "              monotone_constraints='()', n_estimators=100, n_jobs=8,\n",
      "              num_parallel_tree=1, random_state=0, reg_alpha=0, reg_lambda=1,\n",
      "              scale_pos_weight=1, subsample=1, tree_method='exact',\n",
      "              use_label_encoder=False, validate_parameters=1, verbosity=None)\n",
      "0.9985519238725693\n",
      "0.6172456575682382\n",
      "0.583124050535546\n"
     ]
    }
   ],
   "source": [
    "X = stats.drop([\"winner\", \"game_date\", \"season\"], axis=1)\n",
    "y = stats[\"winner\"]\n",
    "\n",
    "X_train, X_test, y_train, y_test = train_test_split(X, y, train_size=0.75)\n",
    "\n",
    "for model in models:\n",
    "    model = model\n",
    "    model.fit(X_train, y_train)\n",
    "    y_train_pred = model.predict(X_train)\n",
    "    y_pred = model.predict(X_test)\n",
    "    \n",
    "    print(model)\n",
    "    print(accuracy_score(y_train, y_train_pred))\n",
    "    print(accuracy_score(y_test, y_pred))\n",
    "    print(cross_val_score(model, X_test, y_test).mean())"
   ]
  },
  {
   "cell_type": "markdown",
   "id": "00951686-7b64-48ec-bf1a-45552002c3c7",
   "metadata": {},
   "source": [
    "> The test data is no longer leaking into the training data. But the model still overfits"
   ]
  },
  {
   "cell_type": "code",
   "execution_count": null,
   "id": "a448d642-094b-4281-a908-c3dc86eafef8",
   "metadata": {},
   "outputs": [],
   "source": []
  },
  {
   "cell_type": "code",
   "execution_count": 20,
   "id": "c2d91e6c-b96b-42e9-83a9-6f1cb5729fe4",
   "metadata": {},
   "outputs": [],
   "source": [
    "train = stats[stats[\"season\"].isin([2015,2016,2017,2018,2019])]\n",
    "test = stats[stats[\"season\"].eq(2020)]"
   ]
  },
  {
   "cell_type": "code",
   "execution_count": 21,
   "id": "0217ec8e-9b09-40af-9c08-217be97c9629",
   "metadata": {},
   "outputs": [],
   "source": [
    "X_train = train.drop([\"winner\", \"game_date\", \"season\"], axis=1)\n",
    "y_train = train[\"winner\"]\n",
    "X_test = test.drop([\"winner\", \"game_date\", \"season\"], axis=1)\n",
    "y_test = test[\"winner\"]"
   ]
  },
  {
   "cell_type": "code",
   "execution_count": 22,
   "id": "61471052-1a17-46a6-b9a3-d062efc91660",
   "metadata": {},
   "outputs": [
    {
     "name": "stdout",
     "output_type": "stream",
     "text": [
      "LogisticRegression(max_iter=1000)\n",
      "0.6329042029534268\n",
      "0.570446735395189\n"
     ]
    },
    {
     "name": "stderr",
     "output_type": "stream",
     "text": [
      "/Users/zacharyargentin/opt/anaconda3/envs/bootcamp/lib/python3.8/site-packages/sklearn/linear_model/_logistic.py:763: ConvergenceWarning: lbfgs failed to converge (status=1):\n",
      "STOP: TOTAL NO. of ITERATIONS REACHED LIMIT.\n",
      "\n",
      "Increase the number of iterations (max_iter) or scale the data as shown in:\n",
      "    https://scikit-learn.org/stable/modules/preprocessing.html\n",
      "Please also refer to the documentation for alternative solver options:\n",
      "    https://scikit-learn.org/stable/modules/linear_model.html#logistic-regression\n",
      "  n_iter_i = _check_optimize_result(\n",
      "/Users/zacharyargentin/opt/anaconda3/envs/bootcamp/lib/python3.8/site-packages/sklearn/linear_model/_logistic.py:763: ConvergenceWarning: lbfgs failed to converge (status=1):\n",
      "STOP: TOTAL NO. of ITERATIONS REACHED LIMIT.\n",
      "\n",
      "Increase the number of iterations (max_iter) or scale the data as shown in:\n",
      "    https://scikit-learn.org/stable/modules/preprocessing.html\n",
      "Please also refer to the documentation for alternative solver options:\n",
      "    https://scikit-learn.org/stable/modules/linear_model.html#logistic-regression\n",
      "  n_iter_i = _check_optimize_result(\n",
      "/Users/zacharyargentin/opt/anaconda3/envs/bootcamp/lib/python3.8/site-packages/sklearn/linear_model/_logistic.py:763: ConvergenceWarning: lbfgs failed to converge (status=1):\n",
      "STOP: TOTAL NO. of ITERATIONS REACHED LIMIT.\n",
      "\n",
      "Increase the number of iterations (max_iter) or scale the data as shown in:\n",
      "    https://scikit-learn.org/stable/modules/preprocessing.html\n",
      "Please also refer to the documentation for alternative solver options:\n",
      "    https://scikit-learn.org/stable/modules/linear_model.html#logistic-regression\n",
      "  n_iter_i = _check_optimize_result(\n",
      "/Users/zacharyargentin/opt/anaconda3/envs/bootcamp/lib/python3.8/site-packages/sklearn/linear_model/_logistic.py:763: ConvergenceWarning: lbfgs failed to converge (status=1):\n",
      "STOP: TOTAL NO. of ITERATIONS REACHED LIMIT.\n",
      "\n",
      "Increase the number of iterations (max_iter) or scale the data as shown in:\n",
      "    https://scikit-learn.org/stable/modules/preprocessing.html\n",
      "Please also refer to the documentation for alternative solver options:\n",
      "    https://scikit-learn.org/stable/modules/linear_model.html#logistic-regression\n",
      "  n_iter_i = _check_optimize_result(\n",
      "/Users/zacharyargentin/opt/anaconda3/envs/bootcamp/lib/python3.8/site-packages/sklearn/linear_model/_logistic.py:763: ConvergenceWarning: lbfgs failed to converge (status=1):\n",
      "STOP: TOTAL NO. of ITERATIONS REACHED LIMIT.\n",
      "\n",
      "Increase the number of iterations (max_iter) or scale the data as shown in:\n",
      "    https://scikit-learn.org/stable/modules/preprocessing.html\n",
      "Please also refer to the documentation for alternative solver options:\n",
      "    https://scikit-learn.org/stable/modules/linear_model.html#logistic-regression\n",
      "  n_iter_i = _check_optimize_result(\n"
     ]
    },
    {
     "name": "stdout",
     "output_type": "stream",
     "text": [
      "0.5936214296285334\n",
      "GaussianNB()\n",
      "0.5921999242711095\n",
      "0.5231958762886598\n",
      "0.5876461447387894\n",
      "KNeighborsClassifier()\n",
      "0.733434305187429\n",
      "0.5137457044673539\n",
      "0.5464148290661536\n",
      "RandomForestClassifier()\n",
      "1.0\n",
      "0.5231958762886598\n",
      "0.5790476542844457\n",
      "XGBClassifier(base_score=0.5, booster='gbtree', colsample_bylevel=1,\n",
      "              colsample_bynode=1, colsample_bytree=1, eval_metric='logloss',\n",
      "              gamma=0, gpu_id=-1, importance_type='gain',\n",
      "              interaction_constraints='', learning_rate=0.300000012,\n",
      "              max_delta_step=0, max_depth=6, min_child_weight=1, missing=nan,\n",
      "              monotone_constraints='()', n_estimators=100, n_jobs=8,\n",
      "              num_parallel_tree=1, random_state=0, reg_alpha=0, reg_lambda=1,\n",
      "              scale_pos_weight=1, subsample=1, tree_method='exact',\n",
      "              use_label_encoder=False, validate_parameters=1, verbosity=None)\n",
      "0.9986747444149944\n",
      "0.5223367697594502\n",
      "0.5567152582507029\n"
     ]
    }
   ],
   "source": [
    "for model in models:\n",
    "    model = model\n",
    "    model.fit(X_train, y_train)\n",
    "    y_train_pred = model.predict(X_train)\n",
    "    y_pred = model.predict(X_test)\n",
    "    \n",
    "    print(model)\n",
    "    print(accuracy_score(y_train, y_train_pred))\n",
    "    print(accuracy_score(y_test, y_pred))\n",
    "    print(cross_val_score(model, X_test, y_test).mean())"
   ]
  },
  {
   "cell_type": "markdown",
   "id": "a4b3b800-2b4f-436c-9875-325ce5d12049",
   "metadata": {},
   "source": [
    "## Using all stats"
   ]
  },
  {
   "cell_type": "code",
   "execution_count": 37,
   "id": "ad5a6c8e-da64-43a5-8315-3c143de5acd7",
   "metadata": {},
   "outputs": [],
   "source": [
    "lr = LogisticRegression(max_iter=5000)\n",
    "nb = GaussianNB()\n",
    "knn = KNeighborsClassifier()\n",
    "rf = RandomForestClassifier(n_estimators=100)\n",
    "xgb = XGBClassifier(n_estimators=100, eval_metric=\"logloss\", use_label_encoder=False)\n",
    "\n",
    "models = [lr, nb, knn, rf, xgb]"
   ]
  },
  {
   "cell_type": "code",
   "execution_count": 24,
   "id": "1661ffb3-12ba-45ac-9a2a-4bb248eb5567",
   "metadata": {},
   "outputs": [],
   "source": [
    "stats = pd.read_csv(\"data/all_stats_feats.csv\", index_col=\"game_id\")"
   ]
  },
  {
   "cell_type": "code",
   "execution_count": 25,
   "id": "d287de54-0dfa-4160-8190-d0aca308fd68",
   "metadata": {},
   "outputs": [
    {
     "name": "stdout",
     "output_type": "stream",
     "text": [
      "LogisticRegression(max_iter=1000)\n",
      "0.6334298717418287\n",
      "0.6209677419354839\n"
     ]
    },
    {
     "name": "stderr",
     "output_type": "stream",
     "text": [
      "/Users/zacharyargentin/opt/anaconda3/envs/bootcamp/lib/python3.8/site-packages/sklearn/linear_model/_logistic.py:763: ConvergenceWarning: lbfgs failed to converge (status=1):\n",
      "STOP: TOTAL NO. of ITERATIONS REACHED LIMIT.\n",
      "\n",
      "Increase the number of iterations (max_iter) or scale the data as shown in:\n",
      "    https://scikit-learn.org/stable/modules/preprocessing.html\n",
      "Please also refer to the documentation for alternative solver options:\n",
      "    https://scikit-learn.org/stable/modules/linear_model.html#logistic-regression\n",
      "  n_iter_i = _check_optimize_result(\n",
      "/Users/zacharyargentin/opt/anaconda3/envs/bootcamp/lib/python3.8/site-packages/sklearn/linear_model/_logistic.py:763: ConvergenceWarning: lbfgs failed to converge (status=1):\n",
      "STOP: TOTAL NO. of ITERATIONS REACHED LIMIT.\n",
      "\n",
      "Increase the number of iterations (max_iter) or scale the data as shown in:\n",
      "    https://scikit-learn.org/stable/modules/preprocessing.html\n",
      "Please also refer to the documentation for alternative solver options:\n",
      "    https://scikit-learn.org/stable/modules/linear_model.html#logistic-regression\n",
      "  n_iter_i = _check_optimize_result(\n",
      "/Users/zacharyargentin/opt/anaconda3/envs/bootcamp/lib/python3.8/site-packages/sklearn/linear_model/_logistic.py:763: ConvergenceWarning: lbfgs failed to converge (status=1):\n",
      "STOP: TOTAL NO. of ITERATIONS REACHED LIMIT.\n",
      "\n",
      "Increase the number of iterations (max_iter) or scale the data as shown in:\n",
      "    https://scikit-learn.org/stable/modules/preprocessing.html\n",
      "Please also refer to the documentation for alternative solver options:\n",
      "    https://scikit-learn.org/stable/modules/linear_model.html#logistic-regression\n",
      "  n_iter_i = _check_optimize_result(\n",
      "/Users/zacharyargentin/opt/anaconda3/envs/bootcamp/lib/python3.8/site-packages/sklearn/linear_model/_logistic.py:763: ConvergenceWarning: lbfgs failed to converge (status=1):\n",
      "STOP: TOTAL NO. of ITERATIONS REACHED LIMIT.\n",
      "\n",
      "Increase the number of iterations (max_iter) or scale the data as shown in:\n",
      "    https://scikit-learn.org/stable/modules/preprocessing.html\n",
      "Please also refer to the documentation for alternative solver options:\n",
      "    https://scikit-learn.org/stable/modules/linear_model.html#logistic-regression\n",
      "  n_iter_i = _check_optimize_result(\n"
     ]
    },
    {
     "name": "stdout",
     "output_type": "stream",
     "text": [
      "0.6141280310751303\n",
      "GaussianNB()\n",
      "0.5806785270997104\n",
      "0.5936724565756824\n",
      "0.575059131203969\n",
      "KNeighborsClassifier()\n",
      "0.7287960281340504\n",
      "0.5787841191066998\n",
      "0.5533392304290138\n",
      "RandomForestClassifier()\n",
      "1.0\n",
      "0.607940446650124\n",
      "0.6004961252235448\n",
      "XGBClassifier(base_score=0.5, booster='gbtree', colsample_bylevel=1,\n",
      "              colsample_bynode=1, colsample_bytree=1, eval_metric='logloss',\n",
      "              gamma=0, gpu_id=-1, importance_type='gain',\n",
      "              interaction_constraints='', learning_rate=0.300000012,\n",
      "              max_delta_step=0, max_depth=6, min_child_weight=1, missing=nan,\n",
      "              monotone_constraints='()', n_estimators=100, n_jobs=8,\n",
      "              num_parallel_tree=1, random_state=0, reg_alpha=0, reg_lambda=1,\n",
      "              scale_pos_weight=1, subsample=1, tree_method='exact',\n",
      "              use_label_encoder=False, validate_parameters=1, verbosity=None)\n",
      "0.9985519238725693\n",
      "0.5949131513647643\n",
      "0.5843797473222698\n"
     ]
    }
   ],
   "source": [
    "X = stats.drop([\"winner\", \"game_date\", \"season\"], axis=1)\n",
    "y = stats[\"winner\"]\n",
    "\n",
    "X_train, X_test, y_train, y_test = train_test_split(X, y, train_size=0.75)\n",
    "\n",
    "for model in models:\n",
    "    model = model\n",
    "    model.fit(X_train, y_train)\n",
    "    y_train_pred = model.predict(X_train)\n",
    "    y_pred = model.predict(X_test)\n",
    "    \n",
    "    print(model)\n",
    "    print(accuracy_score(y_train, y_train_pred))\n",
    "    print(accuracy_score(y_test, y_pred))\n",
    "    print(cross_val_score(model, X_test, y_test).mean())"
   ]
  },
  {
   "cell_type": "code",
   "execution_count": null,
   "id": "06e8d2b4-85a4-4bc9-8ab8-2a1bd95e51fa",
   "metadata": {},
   "outputs": [],
   "source": []
  },
  {
   "cell_type": "code",
   "execution_count": 122,
   "id": "1bbdf4b1-9451-4497-8d5d-ad4924ffa568",
   "metadata": {
    "tags": []
   },
   "outputs": [],
   "source": [
    "train = stats[stats[\"season\"].lt(2020)]\n",
    "test = stats[stats[\"season\"].eq(2020)]"
   ]
  },
  {
   "cell_type": "code",
   "execution_count": 123,
   "id": "c19ce993-92dd-4ab7-8f2d-c3cd1a2e5229",
   "metadata": {},
   "outputs": [],
   "source": [
    "X_train = train.drop([\"winner\", \"game_date\", \"season\"], axis=1)\n",
    "y_train = train[\"winner\"]\n",
    "X_test = test.drop([\"winner\", \"game_date\", \"season\"], axis=1)\n",
    "y_test = test[\"winner\"]"
   ]
  },
  {
   "cell_type": "code",
   "execution_count": 124,
   "id": "8b3b1740-7ee0-4890-b13e-f3dd8f41398e",
   "metadata": {},
   "outputs": [],
   "source": [
    "# using only diff\n",
    "X_train = X_train.loc[:,\"diff_away_ast\":]\n",
    "X_test = X_test.loc[:,\"diff_away_ast\":]"
   ]
  },
  {
   "cell_type": "code",
   "execution_count": 125,
   "id": "c8f146e2-3d3d-4dda-bcef-69bec740739d",
   "metadata": {},
   "outputs": [
    {
     "name": "stdout",
     "output_type": "stream",
     "text": [
      "LogisticRegression(max_iter=5000)\n",
      "0.6185157137447936\n",
      "0.5747422680412371\n",
      "0.5902688860435339\n",
      "0.7248427672955975\n",
      "[[208 320]\n",
      " [175 461]]\n",
      "GaussianNB()\n",
      "0.5808405906853464\n",
      "0.5567010309278351\n",
      "0.5742574257425742\n",
      "0.7295597484276729\n",
      "[[184 344]\n",
      " [172 464]]\n",
      "KNeighborsClassifier()\n",
      "0.7288905717531238\n",
      "0.5042955326460481\n",
      "0.5439642324888226\n",
      "0.5738993710691824\n",
      "[[222 306]\n",
      " [271 365]]\n",
      "RandomForestClassifier()\n",
      "1.0\n",
      "0.538659793814433\n",
      "0.558858501783591\n",
      "0.7389937106918238\n",
      "[[157 371]\n",
      " [166 470]]\n",
      "XGBClassifier(base_score=0.5, booster='gbtree', colsample_bylevel=1,\n",
      "              colsample_bynode=1, colsample_bytree=1, eval_metric='logloss',\n",
      "              gamma=0, gpu_id=-1, importance_type='gain',\n",
      "              interaction_constraints='', learning_rate=0.300000012,\n",
      "              max_delta_step=0, max_depth=6, min_child_weight=1, missing=nan,\n",
      "              monotone_constraints='()', n_estimators=100, n_jobs=8,\n",
      "              num_parallel_tree=1, random_state=0, reg_alpha=0, reg_lambda=1,\n",
      "              scale_pos_weight=1, subsample=1, tree_method='exact',\n",
      "              use_label_encoder=False, validate_parameters=1, verbosity=None)\n",
      "0.9878833775085195\n",
      "0.5455326460481099\n",
      "0.5783308931185944\n",
      "0.6210691823899371\n",
      "[[240 288]\n",
      " [241 395]]\n"
     ]
    }
   ],
   "source": [
    "for model in models:\n",
    "    model = model\n",
    "    model.fit(X_train, y_train)\n",
    "    y_train_pred = model.predict(X_train)\n",
    "    y_pred = model.predict(X_test)\n",
    "    \n",
    "    print(model)\n",
    "    print(accuracy_score(y_train, y_train_pred))\n",
    "    print(accuracy_score(y_test, y_pred))\n",
    "    print(precision_score(y_test, y_pred))\n",
    "    print(recall_score(y_test, y_pred))\n",
    "    print(confusion_matrix(y_test, y_pred))"
   ]
  },
  {
   "cell_type": "markdown",
   "id": "c14bcf66-d439-4673-a28f-8803aed95c75",
   "metadata": {},
   "source": [
    "> More data slightly improved random forest and XGboost algos.   \n",
    "> Some models overfit so possibly hyper parameter tuning would help?   \n",
    "> But I think we need to be more selective of features / engineer better featrures"
   ]
  },
  {
   "cell_type": "markdown",
   "id": "77a6968c-22c8-4302-8fa9-2cb6e2f47628",
   "metadata": {},
   "source": [
    "### best_model"
   ]
  },
  {
   "cell_type": "code",
   "execution_count": 126,
   "id": "290689b4-29a7-4808-8bd4-a17395eff595",
   "metadata": {},
   "outputs": [
    {
     "name": "stdout",
     "output_type": "stream",
     "text": [
      "0.6185157137447936\n",
      "0.5747422680412371\n",
      "0.5902688860435339\n",
      "0.5430809399477807\n",
      "[[208 320]\n",
      " [175 461]]\n"
     ]
    }
   ],
   "source": [
    "lr.fit(X_train, y_train)\n",
    "y_train_pred = lr.predict(X_train)\n",
    "y_pred = lr.predict(X_test)\n",
    "\n",
    "print(accuracy_score(y_train, y_train_pred))\n",
    "print(accuracy_score(y_test, y_pred))\n",
    "print(precision_score(y_test, y_pred))\n",
    "print(npv_score(y_test, y_pred))\n",
    "print(confusion_matrix(y_test, y_pred))"
   ]
  },
  {
   "cell_type": "code",
   "execution_count": 127,
   "id": "1b1f059f-0b01-4956-9712-eedd454dc939",
   "metadata": {},
   "outputs": [
    {
     "data": {
      "text/plain": [
       "<Figure size 640x480 with 0 Axes>"
      ]
     },
     "metadata": {},
     "output_type": "display_data"
    },
    {
     "data": {
      "image/png": "[encoded data removed]",
      "text/plain": [
       "<Figure size 640x480 with 2 Axes>"
      ]
     },
     "metadata": {},
     "output_type": "display_data"
    }
   ],
   "source": [
    "plt.figure()\n",
    "plot_confusion_matrix(lr, X_test, y_test)\n",
    "plt.ylabel(\"True Outcome\")\n",
    "plt.yticks(ticks=[0,1], labels=[\"Away Win\", \"Home Win\"])\n",
    "plt.xticks(ticks=[0,1], labels=[\"Away Win\", \"Home Win\"])\n",
    "plt.xlabel(\"Predicted Outcome\")\n",
    "plt.show()"
   ]
  },
  {
   "cell_type": "code",
   "execution_count": 115,
   "id": "1e7bb0d4-275b-4b19-829a-4cb2e5091c47",
   "metadata": {},
   "outputs": [
    {
     "data": {
      "text/plain": [
       "0.5659163987138264"
      ]
     },
     "execution_count": 115,
     "metadata": {},
     "output_type": "execute_result"
    }
   ],
   "source": [
    "176/311"
   ]
  }
 ],
 "metadata": {
  "kernelspec": {
   "display_name": "bootcamp",
   "language": "python",
   "name": "bootcamp"
  },
  "language_info": {
   "codemirror_mode": {
    "name": "ipython",
    "version": 3
   },
   "file_extension": ".py",
   "mimetype": "text/x-python",
   "name": "python",
   "nbconvert_exporter": "python",
   "pygments_lexer": "ipython3",
   "version": "3.8.11"
  }
 },
 "nbformat": 4,
 "nbformat_minor": 5
}
